{
 "cells": [
  {
   "cell_type": "markdown",
   "metadata": {},
   "source": [
    "# Data Wrangling Phases Table of Contents\n",
    "\n",
    "[1 - Gather](#Gather)\n",
    "\n",
    "[2 - Assess](#Assess)\n",
    "\n",
    "[3 - Clean](#Clean)\n",
    "\n"
   ]
  },
  {
   "cell_type": "code",
   "execution_count": 1,
   "metadata": {},
   "outputs": [],
   "source": [
    "#importing required libraries and packages\n",
    "\n",
    "import pandas as pd\n",
    "import numpy as np\n",
    "import requests\n",
    "\n",
    "import time\n",
    "import matplotlib.pyplot as plt\n",
    "import seaborn as sns\n",
    "\n",
    "import json\n",
    "import tweepy\n",
    "import re\n"
   ]
  },
  {
   "cell_type": "markdown",
   "metadata": {},
   "source": [
    "<a id =\"Gather\"></a>\n",
    "\n",
    "## 1 Gather\n"
   ]
  },
  {
   "cell_type": "code",
   "execution_count": 2,
   "metadata": {},
   "outputs": [
    {
     "data": {
      "text/html": [
       "<div>\n",
       "<style scoped>\n",
       "    .dataframe tbody tr th:only-of-type {\n",
       "        vertical-align: middle;\n",
       "    }\n",
       "\n",
       "    .dataframe tbody tr th {\n",
       "        vertical-align: top;\n",
       "    }\n",
       "\n",
       "    .dataframe thead th {\n",
       "        text-align: right;\n",
       "    }\n",
       "</style>\n",
       "<table border=\"1\" class=\"dataframe\">\n",
       "  <thead>\n",
       "    <tr style=\"text-align: right;\">\n",
       "      <th></th>\n",
       "      <th>tweet_id</th>\n",
       "      <th>in_reply_to_status_id</th>\n",
       "      <th>in_reply_to_user_id</th>\n",
       "      <th>timestamp</th>\n",
       "      <th>source</th>\n",
       "      <th>text</th>\n",
       "      <th>retweeted_status_id</th>\n",
       "      <th>retweeted_status_user_id</th>\n",
       "      <th>retweeted_status_timestamp</th>\n",
       "      <th>expanded_urls</th>\n",
       "      <th>rating_numerator</th>\n",
       "      <th>rating_denominator</th>\n",
       "      <th>name</th>\n",
       "      <th>doggo</th>\n",
       "      <th>floofer</th>\n",
       "      <th>pupper</th>\n",
       "      <th>puppo</th>\n",
       "    </tr>\n",
       "  </thead>\n",
       "  <tbody>\n",
       "    <tr>\n",
       "      <th>0</th>\n",
       "      <td>8.920000e+17</td>\n",
       "      <td>NaN</td>\n",
       "      <td>NaN</td>\n",
       "      <td>2017-08-01 16:23:56 +0000</td>\n",
       "      <td>&lt;a href=\"http://twitter.com/download/iphone\" r...</td>\n",
       "      <td>This is Phineas. He's a mystical boy. Only eve...</td>\n",
       "      <td>NaN</td>\n",
       "      <td>NaN</td>\n",
       "      <td>NaN</td>\n",
       "      <td>https://twitter.com/dog_rates/status/892420643...</td>\n",
       "      <td>13</td>\n",
       "      <td>10</td>\n",
       "      <td>Phineas</td>\n",
       "      <td>None</td>\n",
       "      <td>None</td>\n",
       "      <td>None</td>\n",
       "      <td>None</td>\n",
       "    </tr>\n",
       "    <tr>\n",
       "      <th>1</th>\n",
       "      <td>8.920000e+17</td>\n",
       "      <td>NaN</td>\n",
       "      <td>NaN</td>\n",
       "      <td>2017-08-01 00:17:27 +0000</td>\n",
       "      <td>&lt;a href=\"http://twitter.com/download/iphone\" r...</td>\n",
       "      <td>This is Tilly. She's just checking pup on you....</td>\n",
       "      <td>NaN</td>\n",
       "      <td>NaN</td>\n",
       "      <td>NaN</td>\n",
       "      <td>https://twitter.com/dog_rates/status/892177421...</td>\n",
       "      <td>13</td>\n",
       "      <td>10</td>\n",
       "      <td>Tilly</td>\n",
       "      <td>None</td>\n",
       "      <td>None</td>\n",
       "      <td>None</td>\n",
       "      <td>None</td>\n",
       "    </tr>\n",
       "    <tr>\n",
       "      <th>2</th>\n",
       "      <td>8.920000e+17</td>\n",
       "      <td>NaN</td>\n",
       "      <td>NaN</td>\n",
       "      <td>2017-07-31 00:18:03 +0000</td>\n",
       "      <td>&lt;a href=\"http://twitter.com/download/iphone\" r...</td>\n",
       "      <td>This is Archie. He is a rare Norwegian Pouncin...</td>\n",
       "      <td>NaN</td>\n",
       "      <td>NaN</td>\n",
       "      <td>NaN</td>\n",
       "      <td>https://twitter.com/dog_rates/status/891815181...</td>\n",
       "      <td>12</td>\n",
       "      <td>10</td>\n",
       "      <td>Archie</td>\n",
       "      <td>None</td>\n",
       "      <td>None</td>\n",
       "      <td>None</td>\n",
       "      <td>None</td>\n",
       "    </tr>\n",
       "    <tr>\n",
       "      <th>3</th>\n",
       "      <td>8.920000e+17</td>\n",
       "      <td>NaN</td>\n",
       "      <td>NaN</td>\n",
       "      <td>2017-07-30 15:58:51 +0000</td>\n",
       "      <td>&lt;a href=\"http://twitter.com/download/iphone\" r...</td>\n",
       "      <td>This is Darla. She commenced a snooze mid meal...</td>\n",
       "      <td>NaN</td>\n",
       "      <td>NaN</td>\n",
       "      <td>NaN</td>\n",
       "      <td>https://twitter.com/dog_rates/status/891689557...</td>\n",
       "      <td>13</td>\n",
       "      <td>10</td>\n",
       "      <td>Darla</td>\n",
       "      <td>None</td>\n",
       "      <td>None</td>\n",
       "      <td>None</td>\n",
       "      <td>None</td>\n",
       "    </tr>\n",
       "    <tr>\n",
       "      <th>4</th>\n",
       "      <td>8.910000e+17</td>\n",
       "      <td>NaN</td>\n",
       "      <td>NaN</td>\n",
       "      <td>2017-07-29 16:00:24 +0000</td>\n",
       "      <td>&lt;a href=\"http://twitter.com/download/iphone\" r...</td>\n",
       "      <td>This is Franklin. He would like you to stop ca...</td>\n",
       "      <td>NaN</td>\n",
       "      <td>NaN</td>\n",
       "      <td>NaN</td>\n",
       "      <td>https://twitter.com/dog_rates/status/891327558...</td>\n",
       "      <td>12</td>\n",
       "      <td>10</td>\n",
       "      <td>Franklin</td>\n",
       "      <td>None</td>\n",
       "      <td>None</td>\n",
       "      <td>None</td>\n",
       "      <td>None</td>\n",
       "    </tr>\n",
       "  </tbody>\n",
       "</table>\n",
       "</div>"
      ],
      "text/plain": [
       "       tweet_id  in_reply_to_status_id  in_reply_to_user_id  \\\n",
       "0  8.920000e+17                    NaN                  NaN   \n",
       "1  8.920000e+17                    NaN                  NaN   \n",
       "2  8.920000e+17                    NaN                  NaN   \n",
       "3  8.920000e+17                    NaN                  NaN   \n",
       "4  8.910000e+17                    NaN                  NaN   \n",
       "\n",
       "                   timestamp  \\\n",
       "0  2017-08-01 16:23:56 +0000   \n",
       "1  2017-08-01 00:17:27 +0000   \n",
       "2  2017-07-31 00:18:03 +0000   \n",
       "3  2017-07-30 15:58:51 +0000   \n",
       "4  2017-07-29 16:00:24 +0000   \n",
       "\n",
       "                                              source  \\\n",
       "0  <a href=\"http://twitter.com/download/iphone\" r...   \n",
       "1  <a href=\"http://twitter.com/download/iphone\" r...   \n",
       "2  <a href=\"http://twitter.com/download/iphone\" r...   \n",
       "3  <a href=\"http://twitter.com/download/iphone\" r...   \n",
       "4  <a href=\"http://twitter.com/download/iphone\" r...   \n",
       "\n",
       "                                                text  retweeted_status_id  \\\n",
       "0  This is Phineas. He's a mystical boy. Only eve...                  NaN   \n",
       "1  This is Tilly. She's just checking pup on you....                  NaN   \n",
       "2  This is Archie. He is a rare Norwegian Pouncin...                  NaN   \n",
       "3  This is Darla. She commenced a snooze mid meal...                  NaN   \n",
       "4  This is Franklin. He would like you to stop ca...                  NaN   \n",
       "\n",
       "   retweeted_status_user_id retweeted_status_timestamp  \\\n",
       "0                       NaN                        NaN   \n",
       "1                       NaN                        NaN   \n",
       "2                       NaN                        NaN   \n",
       "3                       NaN                        NaN   \n",
       "4                       NaN                        NaN   \n",
       "\n",
       "                                       expanded_urls  rating_numerator  \\\n",
       "0  https://twitter.com/dog_rates/status/892420643...                13   \n",
       "1  https://twitter.com/dog_rates/status/892177421...                13   \n",
       "2  https://twitter.com/dog_rates/status/891815181...                12   \n",
       "3  https://twitter.com/dog_rates/status/891689557...                13   \n",
       "4  https://twitter.com/dog_rates/status/891327558...                12   \n",
       "\n",
       "   rating_denominator      name doggo floofer pupper puppo  \n",
       "0                  10   Phineas  None    None   None  None  \n",
       "1                  10     Tilly  None    None   None  None  \n",
       "2                  10    Archie  None    None   None  None  \n",
       "3                  10     Darla  None    None   None  None  \n",
       "4                  10  Franklin  None    None   None  None  "
      ]
     },
     "execution_count": 2,
     "metadata": {},
     "output_type": "execute_result"
    }
   ],
   "source": [
    "#Access twitter archive file just to have alook\n",
    "\n",
    "df_archive = pd.read_csv('twitter-archive-enhanced.csv')\n",
    "df_archive.head()\n",
    "\n"
   ]
  },
  {
   "cell_type": "code",
   "execution_count": 3,
   "metadata": {},
   "outputs": [],
   "source": [
    "#downloading image predicton file programatically from udacity server\n",
    "\n",
    "response = requests.get(\"https://d17h27t6h515a5.cloudfront.net/topher/2017/August/599fd2ad_image-predictions/image-predictions.tsv\")\n",
    "with open('image-predictions.tsv', 'wb') as file:\n",
    "    file.write(response.content)\n",
    "\n"
   ]
  },
  {
   "cell_type": "code",
   "execution_count": 4,
   "metadata": {},
   "outputs": [],
   "source": [
    "df_image = pd.read_csv('image-predictions.tsv' , sep = '\\t')  #access and analyz this file"
   ]
  },
  {
   "cell_type": "code",
   "execution_count": 5,
   "metadata": {},
   "outputs": [
    {
     "data": {
      "text/html": [
       "<div>\n",
       "<style scoped>\n",
       "    .dataframe tbody tr th:only-of-type {\n",
       "        vertical-align: middle;\n",
       "    }\n",
       "\n",
       "    .dataframe tbody tr th {\n",
       "        vertical-align: top;\n",
       "    }\n",
       "\n",
       "    .dataframe thead th {\n",
       "        text-align: right;\n",
       "    }\n",
       "</style>\n",
       "<table border=\"1\" class=\"dataframe\">\n",
       "  <thead>\n",
       "    <tr style=\"text-align: right;\">\n",
       "      <th></th>\n",
       "      <th>tweet_id</th>\n",
       "      <th>jpg_url</th>\n",
       "      <th>img_num</th>\n",
       "      <th>p1</th>\n",
       "      <th>p1_conf</th>\n",
       "      <th>p1_dog</th>\n",
       "      <th>p2</th>\n",
       "      <th>p2_conf</th>\n",
       "      <th>p2_dog</th>\n",
       "      <th>p3</th>\n",
       "      <th>p3_conf</th>\n",
       "      <th>p3_dog</th>\n",
       "    </tr>\n",
       "  </thead>\n",
       "  <tbody>\n",
       "    <tr>\n",
       "      <th>0</th>\n",
       "      <td>666020888022790149</td>\n",
       "      <td>https://pbs.twimg.com/media/CT4udn0WwAA0aMy.jpg</td>\n",
       "      <td>1</td>\n",
       "      <td>Welsh_springer_spaniel</td>\n",
       "      <td>0.465074</td>\n",
       "      <td>True</td>\n",
       "      <td>collie</td>\n",
       "      <td>0.156665</td>\n",
       "      <td>True</td>\n",
       "      <td>Shetland_sheepdog</td>\n",
       "      <td>0.061428</td>\n",
       "      <td>True</td>\n",
       "    </tr>\n",
       "    <tr>\n",
       "      <th>1</th>\n",
       "      <td>666029285002620928</td>\n",
       "      <td>https://pbs.twimg.com/media/CT42GRgUYAA5iDo.jpg</td>\n",
       "      <td>1</td>\n",
       "      <td>redbone</td>\n",
       "      <td>0.506826</td>\n",
       "      <td>True</td>\n",
       "      <td>miniature_pinscher</td>\n",
       "      <td>0.074192</td>\n",
       "      <td>True</td>\n",
       "      <td>Rhodesian_ridgeback</td>\n",
       "      <td>0.072010</td>\n",
       "      <td>True</td>\n",
       "    </tr>\n",
       "    <tr>\n",
       "      <th>2</th>\n",
       "      <td>666033412701032449</td>\n",
       "      <td>https://pbs.twimg.com/media/CT4521TWwAEvMyu.jpg</td>\n",
       "      <td>1</td>\n",
       "      <td>German_shepherd</td>\n",
       "      <td>0.596461</td>\n",
       "      <td>True</td>\n",
       "      <td>malinois</td>\n",
       "      <td>0.138584</td>\n",
       "      <td>True</td>\n",
       "      <td>bloodhound</td>\n",
       "      <td>0.116197</td>\n",
       "      <td>True</td>\n",
       "    </tr>\n",
       "    <tr>\n",
       "      <th>3</th>\n",
       "      <td>666044226329800704</td>\n",
       "      <td>https://pbs.twimg.com/media/CT5Dr8HUEAA-lEu.jpg</td>\n",
       "      <td>1</td>\n",
       "      <td>Rhodesian_ridgeback</td>\n",
       "      <td>0.408143</td>\n",
       "      <td>True</td>\n",
       "      <td>redbone</td>\n",
       "      <td>0.360687</td>\n",
       "      <td>True</td>\n",
       "      <td>miniature_pinscher</td>\n",
       "      <td>0.222752</td>\n",
       "      <td>True</td>\n",
       "    </tr>\n",
       "    <tr>\n",
       "      <th>4</th>\n",
       "      <td>666049248165822465</td>\n",
       "      <td>https://pbs.twimg.com/media/CT5IQmsXIAAKY4A.jpg</td>\n",
       "      <td>1</td>\n",
       "      <td>miniature_pinscher</td>\n",
       "      <td>0.560311</td>\n",
       "      <td>True</td>\n",
       "      <td>Rottweiler</td>\n",
       "      <td>0.243682</td>\n",
       "      <td>True</td>\n",
       "      <td>Doberman</td>\n",
       "      <td>0.154629</td>\n",
       "      <td>True</td>\n",
       "    </tr>\n",
       "  </tbody>\n",
       "</table>\n",
       "</div>"
      ],
      "text/plain": [
       "             tweet_id                                          jpg_url  \\\n",
       "0  666020888022790149  https://pbs.twimg.com/media/CT4udn0WwAA0aMy.jpg   \n",
       "1  666029285002620928  https://pbs.twimg.com/media/CT42GRgUYAA5iDo.jpg   \n",
       "2  666033412701032449  https://pbs.twimg.com/media/CT4521TWwAEvMyu.jpg   \n",
       "3  666044226329800704  https://pbs.twimg.com/media/CT5Dr8HUEAA-lEu.jpg   \n",
       "4  666049248165822465  https://pbs.twimg.com/media/CT5IQmsXIAAKY4A.jpg   \n",
       "\n",
       "   img_num                      p1   p1_conf  p1_dog                  p2  \\\n",
       "0        1  Welsh_springer_spaniel  0.465074    True              collie   \n",
       "1        1                 redbone  0.506826    True  miniature_pinscher   \n",
       "2        1         German_shepherd  0.596461    True            malinois   \n",
       "3        1     Rhodesian_ridgeback  0.408143    True             redbone   \n",
       "4        1      miniature_pinscher  0.560311    True          Rottweiler   \n",
       "\n",
       "    p2_conf  p2_dog                   p3   p3_conf  p3_dog  \n",
       "0  0.156665    True    Shetland_sheepdog  0.061428    True  \n",
       "1  0.074192    True  Rhodesian_ridgeback  0.072010    True  \n",
       "2  0.138584    True           bloodhound  0.116197    True  \n",
       "3  0.360687    True   miniature_pinscher  0.222752    True  \n",
       "4  0.243682    True             Doberman  0.154629    True  "
      ]
     },
     "execution_count": 5,
     "metadata": {},
     "output_type": "execute_result"
    }
   ],
   "source": [
    "df_image.head()"
   ]
  },
  {
   "cell_type": "code",
   "execution_count": 6,
   "metadata": {},
   "outputs": [],
   "source": [
    "#entering secret keys and tokens to access twitter api\n",
    "consumer_key = ''\n",
    "consumer_secret = ''\n",
    "access_token = ''\n",
    "access_secret = ''\n",
    "\n",
    "auth = tweepy.OAuthHandler(consumer_key, consumer_secret)\n",
    "auth.set_access_token(access_token, access_secret)\n",
    "\n",
    "api = tweepy.API(auth , wait_on_rate_limit=True, wait_on_rate_limit_notify=True) \n",
    "#including handling parameters for timeouts"
   ]
  },
  {
   "cell_type": "code",
   "execution_count": null,
   "metadata": {},
   "outputs": [
    {
     "name": "stdout",
     "output_type": "stream",
     "text": [
      "Rate limit reached. Sleeping for: 605\n"
     ]
    }
   ],
   "source": [
    "# Testing functionality\n",
    "tweet = api.get_status(892177421306343426, wait_on_rate_limit=True, wait_on_rate_limit_notify=True)\n",
    "tweet"
   ]
  },
  {
   "cell_type": "code",
   "execution_count": 10,
   "metadata": {},
   "outputs": [
    {
     "data": {
      "text/plain": [
       "{'created_at': 'Tue Aug 01 00:17:27 +0000 2017',\n",
       " 'id': 892177421306343426,\n",
       " 'id_str': '892177421306343426',\n",
       " 'text': \"This is Tilly. She's just checking pup on you. Hopes you're doing ok. If not, she's available for pats, snugs, boop… https://t.co/aQFSeaCu9L\",\n",
       " 'truncated': True,\n",
       " 'entities': {'hashtags': [],\n",
       "  'symbols': [],\n",
       "  'user_mentions': [],\n",
       "  'urls': [{'url': 'https://t.co/aQFSeaCu9L',\n",
       "    'expanded_url': 'https://twitter.com/i/web/status/892177421306343426',\n",
       "    'display_url': 'twitter.com/i/web/status/8…',\n",
       "    'indices': [117, 140]}]},\n",
       " 'source': '<a href=\"http://twitter.com/download/iphone\" rel=\"nofollow\">Twitter for iPhone</a>',\n",
       " 'in_reply_to_status_id': None,\n",
       " 'in_reply_to_status_id_str': None,\n",
       " 'in_reply_to_user_id': None,\n",
       " 'in_reply_to_user_id_str': None,\n",
       " 'in_reply_to_screen_name': None,\n",
       " 'user': {'id': 4196983835,\n",
       "  'id_str': '4196983835',\n",
       "  'name': 'WeRateDogs®',\n",
       "  'screen_name': 'dog_rates',\n",
       "  'location': 'links and things ➜',\n",
       "  'description': 'Your Only Source For Professional Dog Ratings Instagram and Facebook ➜ WeRateDogs partnerships@weratedogs.com ⠀⠀⠀⠀⠀⠀⠀⠀⠀⠀⠀⠀',\n",
       "  'url': 'https://t.co/6ytGi24QCk',\n",
       "  'entities': {'url': {'urls': [{'url': 'https://t.co/6ytGi24QCk',\n",
       "      'expanded_url': 'http://campsite.bio/weratedogs',\n",
       "      'display_url': 'campsite.bio/weratedogs',\n",
       "      'indices': [0, 23]}]},\n",
       "   'description': {'urls': []}},\n",
       "  'protected': False,\n",
       "  'followers_count': 8963412,\n",
       "  'friends_count': 17,\n",
       "  'listed_count': 6374,\n",
       "  'created_at': 'Sun Nov 15 21:41:29 +0000 2015',\n",
       "  'favourites_count': 145799,\n",
       "  'utc_offset': None,\n",
       "  'time_zone': None,\n",
       "  'geo_enabled': True,\n",
       "  'verified': True,\n",
       "  'statuses_count': 13461,\n",
       "  'lang': None,\n",
       "  'contributors_enabled': False,\n",
       "  'is_translator': False,\n",
       "  'is_translation_enabled': False,\n",
       "  'profile_background_color': '000000',\n",
       "  'profile_background_image_url': 'http://abs.twimg.com/images/themes/theme1/bg.png',\n",
       "  'profile_background_image_url_https': 'https://abs.twimg.com/images/themes/theme1/bg.png',\n",
       "  'profile_background_tile': False,\n",
       "  'profile_image_url': 'http://pbs.twimg.com/profile_images/1351720980972933122/I3MnYUdm_normal.jpg',\n",
       "  'profile_image_url_https': 'https://pbs.twimg.com/profile_images/1351720980972933122/I3MnYUdm_normal.jpg',\n",
       "  'profile_banner_url': 'https://pbs.twimg.com/profile_banners/4196983835/1611883974',\n",
       "  'profile_link_color': 'F5ABB5',\n",
       "  'profile_sidebar_border_color': '000000',\n",
       "  'profile_sidebar_fill_color': '000000',\n",
       "  'profile_text_color': '000000',\n",
       "  'profile_use_background_image': False,\n",
       "  'has_extended_profile': False,\n",
       "  'default_profile': False,\n",
       "  'default_profile_image': False,\n",
       "  'following': False,\n",
       "  'follow_request_sent': False,\n",
       "  'notifications': False,\n",
       "  'translator_type': 'none'},\n",
       " 'geo': None,\n",
       " 'coordinates': None,\n",
       " 'place': None,\n",
       " 'contributors': None,\n",
       " 'is_quote_status': False,\n",
       " 'retweet_count': 5495,\n",
       " 'favorite_count': 30364,\n",
       " 'favorited': False,\n",
       " 'retweeted': False,\n",
       " 'possibly_sensitive': False,\n",
       " 'possibly_sensitive_appealable': False,\n",
       " 'lang': 'en'}"
      ]
     },
     "execution_count": 10,
     "metadata": {},
     "output_type": "execute_result"
    }
   ],
   "source": [
    "\n",
    "# Get json info\n",
    "info = tweet._json\n",
    "info"
   ]
  },
  {
   "cell_type": "code",
   "execution_count": 31,
   "metadata": {},
   "outputs": [
    {
     "data": {
      "text/plain": [
       "(30364, 5495)"
      ]
     },
     "execution_count": 31,
     "metadata": {},
     "output_type": "execute_result"
    }
   ],
   "source": [
    "# getting tweets retweets and likes counts \n",
    "info['favorite_count']   ,   info['retweet_count'] "
   ]
  },
  {
   "cell_type": "code",
   "execution_count": 32,
   "metadata": {},
   "outputs": [],
   "source": [
    "# list of tweet ids from archive tweets csv dataframe\n",
    "df_tweet_ids = df_archive['tweet_id']\n"
   ]
  },
  {
   "cell_type": "code",
   "execution_count": null,
   "metadata": {},
   "outputs": [],
   "source": [
    "# creating a list for tweets with exceptions/errors \n",
    "tweets_error_list = []\n",
    "\n",
    "# List of tweets\n",
    "df_tweets = []\n",
    "\n",
    "start = time.time() \n",
    "\n",
    "\n",
    "\n",
    "# For loop which will add each available tweet json to df_list\n",
    "for tweet_id in df_tweet_ids:\n",
    "    try:\n",
    "        tweet = api.get_status(tweet_id, tweet_mode= 'extended')._json \n",
    "        \n",
    "        favorites = tweet['favorite_count'] # number of favorites for the tweet\n",
    "        retweets = tweet['retweet_count'] # number of retweets\n",
    "        user_followers = tweet['user']['followers_count'] # number of followers of the user who tweeted\n",
    "        user_favourites = tweet['user']['favourites_count'] # number of favourites for the user who tweeted\n",
    "        date_time = tweet['created_at'] # the timestamp i.e. date and time of creation of the tweet\n",
    "        \n",
    "        df_tweets.append({'tweet_id': int(tweet_id),\n",
    "                        'favorites': int(favorites),\n",
    "                        'retweets': int(retweets),\n",
    "                        'user_followers': int(user_followers),\n",
    "                        'user_favourites': int(user_favourites),\n",
    "                        'date_time': pd.to_datetime(date_time)})\n",
    "    except Exception as e:\n",
    "        print(str(tweet_id)+ \" _ \" + str(e))\n",
    "        tweets_error_list.append(tweet_id)\n",
    "        \n",
    "# end time for excution\n",
    "end = time.time()\n",
    "\n",
    "#printing time for execution\n",
    "print(\"Total time taken for execution\", end - start)\n",
    "\n",
    "\n"
   ]
  },
  {
   "cell_type": "code",
   "execution_count": null,
   "metadata": {},
   "outputs": [],
   "source": [
    "# total tweets received without any error\n",
    "print(\"The lengh of the result\", len(df_tweets))\n",
    "\n",
    "# The tweet_id for tweets with errors\n",
    "print(\"The lengh of the errors\", len(tweets_error_list))"
   ]
  },
  {
   "cell_type": "code",
   "execution_count": null,
   "metadata": {},
   "outputs": [],
   "source": [
    "\n",
    "# creating DataFrames\n",
    "df_tweets_json = pd.DataFrame(df_tweets, columns = ['tweet_id', 'favorites', 'retweets',\n",
    "                                               'user_favourites', 'date_time'])\n",
    "# saving the dataFrame to file\n",
    "df_tweets_json.to_csv('tweet_json.txt', encoding = 'utf-8', index=False)"
   ]
  },
  {
   "cell_type": "code",
   "execution_count": 6,
   "metadata": {},
   "outputs": [],
   "source": [
    "# Read the saved tweet_json.txt file into a dataframe\n",
    "df_tweetsdata = pd.read_csv('tweet_json.txt', encoding = 'utf-8')"
   ]
  },
  {
   "cell_type": "code",
   "execution_count": 8,
   "metadata": {},
   "outputs": [
    {
     "data": {
      "text/html": [
       "<div>\n",
       "<style scoped>\n",
       "    .dataframe tbody tr th:only-of-type {\n",
       "        vertical-align: middle;\n",
       "    }\n",
       "\n",
       "    .dataframe tbody tr th {\n",
       "        vertical-align: top;\n",
       "    }\n",
       "\n",
       "    .dataframe thead th {\n",
       "        text-align: right;\n",
       "    }\n",
       "</style>\n",
       "<table border=\"1\" class=\"dataframe\">\n",
       "  <thead>\n",
       "    <tr style=\"text-align: right;\">\n",
       "      <th></th>\n",
       "      <th>tweet_id</th>\n",
       "      <th>favorites</th>\n",
       "      <th>retweets</th>\n",
       "      <th>user_favourites</th>\n",
       "      <th>date_time</th>\n",
       "    </tr>\n",
       "  </thead>\n",
       "  <tbody>\n",
       "    <tr>\n",
       "      <th>0</th>\n",
       "      <td>892420643555336193</td>\n",
       "      <td>35072</td>\n",
       "      <td>7376</td>\n",
       "      <td>145807</td>\n",
       "      <td>2017-08-01 16:23:56</td>\n",
       "    </tr>\n",
       "    <tr>\n",
       "      <th>1</th>\n",
       "      <td>892177421306343426</td>\n",
       "      <td>30366</td>\n",
       "      <td>5495</td>\n",
       "      <td>145807</td>\n",
       "      <td>2017-08-01 00:17:27</td>\n",
       "    </tr>\n",
       "    <tr>\n",
       "      <th>2</th>\n",
       "      <td>891815181378084864</td>\n",
       "      <td>22828</td>\n",
       "      <td>3633</td>\n",
       "      <td>145807</td>\n",
       "      <td>2017-07-31 00:18:03</td>\n",
       "    </tr>\n",
       "    <tr>\n",
       "      <th>3</th>\n",
       "      <td>891689557279858688</td>\n",
       "      <td>38351</td>\n",
       "      <td>7554</td>\n",
       "      <td>145807</td>\n",
       "      <td>2017-07-30 15:58:51</td>\n",
       "    </tr>\n",
       "    <tr>\n",
       "      <th>4</th>\n",
       "      <td>891327558926688256</td>\n",
       "      <td>36629</td>\n",
       "      <td>8140</td>\n",
       "      <td>145807</td>\n",
       "      <td>2017-07-29 16:00:24</td>\n",
       "    </tr>\n",
       "  </tbody>\n",
       "</table>\n",
       "</div>"
      ],
      "text/plain": [
       "             tweet_id  favorites  retweets  user_favourites  \\\n",
       "0  892420643555336193      35072      7376           145807   \n",
       "1  892177421306343426      30366      5495           145807   \n",
       "2  891815181378084864      22828      3633           145807   \n",
       "3  891689557279858688      38351      7554           145807   \n",
       "4  891327558926688256      36629      8140           145807   \n",
       "\n",
       "             date_time  \n",
       "0  2017-08-01 16:23:56  \n",
       "1  2017-08-01 00:17:27  \n",
       "2  2017-07-31 00:18:03  \n",
       "3  2017-07-30 15:58:51  \n",
       "4  2017-07-29 16:00:24  "
      ]
     },
     "execution_count": 8,
     "metadata": {},
     "output_type": "execute_result"
    }
   ],
   "source": [
    "df_tweetsdata.head()"
   ]
  },
  {
   "cell_type": "code",
   "execution_count": 24,
   "metadata": {},
   "outputs": [
    {
     "data": {
      "text/html": [
       "<div>\n",
       "<style scoped>\n",
       "    .dataframe tbody tr th:only-of-type {\n",
       "        vertical-align: middle;\n",
       "    }\n",
       "\n",
       "    .dataframe tbody tr th {\n",
       "        vertical-align: top;\n",
       "    }\n",
       "\n",
       "    .dataframe thead th {\n",
       "        text-align: right;\n",
       "    }\n",
       "</style>\n",
       "<table border=\"1\" class=\"dataframe\">\n",
       "  <thead>\n",
       "    <tr style=\"text-align: right;\">\n",
       "      <th></th>\n",
       "      <th>tweet_id</th>\n",
       "      <th>favorites</th>\n",
       "      <th>retweets</th>\n",
       "      <th>user_favourites</th>\n",
       "      <th>date_time</th>\n",
       "    </tr>\n",
       "  </thead>\n",
       "  <tbody>\n",
       "    <tr>\n",
       "      <th>2326</th>\n",
       "      <td>666049248165822465</td>\n",
       "      <td>94</td>\n",
       "      <td>38</td>\n",
       "      <td>145807</td>\n",
       "      <td>2015-11-16 00:24:50</td>\n",
       "    </tr>\n",
       "    <tr>\n",
       "      <th>2327</th>\n",
       "      <td>666044226329800704</td>\n",
       "      <td>260</td>\n",
       "      <td>122</td>\n",
       "      <td>145807</td>\n",
       "      <td>2015-11-16 00:04:52</td>\n",
       "    </tr>\n",
       "    <tr>\n",
       "      <th>2328</th>\n",
       "      <td>666033412701032449</td>\n",
       "      <td>107</td>\n",
       "      <td>39</td>\n",
       "      <td>145807</td>\n",
       "      <td>2015-11-15 23:21:54</td>\n",
       "    </tr>\n",
       "    <tr>\n",
       "      <th>2329</th>\n",
       "      <td>666029285002620928</td>\n",
       "      <td>118</td>\n",
       "      <td>41</td>\n",
       "      <td>145807</td>\n",
       "      <td>2015-11-15 23:05:30</td>\n",
       "    </tr>\n",
       "    <tr>\n",
       "      <th>2330</th>\n",
       "      <td>666020888022790149</td>\n",
       "      <td>2343</td>\n",
       "      <td>444</td>\n",
       "      <td>145807</td>\n",
       "      <td>2015-11-15 22:32:08</td>\n",
       "    </tr>\n",
       "  </tbody>\n",
       "</table>\n",
       "</div>"
      ],
      "text/plain": [
       "                tweet_id  favorites  retweets  user_favourites  \\\n",
       "2326  666049248165822465         94        38           145807   \n",
       "2327  666044226329800704        260       122           145807   \n",
       "2328  666033412701032449        107        39           145807   \n",
       "2329  666029285002620928        118        41           145807   \n",
       "2330  666020888022790149       2343       444           145807   \n",
       "\n",
       "                date_time  \n",
       "2326  2015-11-16 00:24:50  \n",
       "2327  2015-11-16 00:04:52  \n",
       "2328  2015-11-15 23:21:54  \n",
       "2329  2015-11-15 23:05:30  \n",
       "2330  2015-11-15 22:32:08  "
      ]
     },
     "execution_count": 24,
     "metadata": {},
     "output_type": "execute_result"
    }
   ],
   "source": [
    "df_tweetsdata.tail()"
   ]
  },
  {
   "cell_type": "code",
   "execution_count": 25,
   "metadata": {},
   "outputs": [
    {
     "name": "stdout",
     "output_type": "stream",
     "text": [
      "<class 'pandas.core.frame.DataFrame'>\n",
      "RangeIndex: 2331 entries, 0 to 2330\n",
      "Data columns (total 5 columns):\n",
      "tweet_id           2331 non-null int64\n",
      "favorites          2331 non-null int64\n",
      "retweets           2331 non-null int64\n",
      "user_favourites    2331 non-null int64\n",
      "date_time          2331 non-null object\n",
      "dtypes: int64(4), object(1)\n",
      "memory usage: 91.1+ KB\n"
     ]
    }
   ],
   "source": [
    "df_tweetsdata.info()"
   ]
  },
  {
   "cell_type": "markdown",
   "metadata": {},
   "source": [
    "## END : GATHER DATA\n",
    "The 3 dataframes are:-\n",
    "df_archive - contains data read from provided csv\n",
    "df_image - contains data from tsv file downloaded from udacity server\n",
    "df_tweetsdata - contains data after authenticating the twitter api by using tweepy library  "
   ]
  },
  {
   "cell_type": "markdown",
   "metadata": {},
   "source": [
    "<a id =\"Assess\"></a>\n",
    "## 2. Assess "
   ]
  },
  {
   "cell_type": "markdown",
   "metadata": {},
   "source": [
    "### Assess df_archive dataframe"
   ]
  },
  {
   "cell_type": "code",
   "execution_count": 26,
   "metadata": {},
   "outputs": [
    {
     "name": "stdout",
     "output_type": "stream",
     "text": [
      "<class 'pandas.core.frame.DataFrame'>\n",
      "RangeIndex: 2348 entries, 0 to 2347\n",
      "Data columns (total 17 columns):\n",
      "tweet_id                      2348 non-null float64\n",
      "in_reply_to_status_id         77 non-null float64\n",
      "in_reply_to_user_id           77 non-null float64\n",
      "timestamp                     2348 non-null object\n",
      "source                        2348 non-null object\n",
      "text                          2348 non-null object\n",
      "retweeted_status_id           179 non-null float64\n",
      "retweeted_status_user_id      179 non-null float64\n",
      "retweeted_status_timestamp    179 non-null object\n",
      "expanded_urls                 2289 non-null object\n",
      "rating_numerator              2348 non-null int64\n",
      "rating_denominator            2348 non-null int64\n",
      "name                          2348 non-null object\n",
      "doggo                         2348 non-null object\n",
      "floofer                       2348 non-null object\n",
      "pupper                        2348 non-null object\n",
      "puppo                         2348 non-null object\n",
      "dtypes: float64(5), int64(2), object(10)\n",
      "memory usage: 311.9+ KB\n"
     ]
    }
   ],
   "source": [
    "#Assesing first dataframe  provided with info method for null or missing values\n",
    "\n",
    "df_archive.info()\n",
    "\n"
   ]
  },
  {
   "cell_type": "code",
   "execution_count": 27,
   "metadata": {},
   "outputs": [
    {
     "data": {
      "text/plain": [
       "tweet_id                         0\n",
       "in_reply_to_status_id         2271\n",
       "in_reply_to_user_id           2271\n",
       "timestamp                        0\n",
       "source                           0\n",
       "text                             0\n",
       "retweeted_status_id           2169\n",
       "retweeted_status_user_id      2169\n",
       "retweeted_status_timestamp    2169\n",
       "expanded_urls                   59\n",
       "rating_numerator                 0\n",
       "rating_denominator               0\n",
       "name                             0\n",
       "doggo                            0\n",
       "floofer                          0\n",
       "pupper                           0\n",
       "puppo                            0\n",
       "dtype: int64"
      ]
     },
     "execution_count": 27,
     "metadata": {},
     "output_type": "execute_result"
    }
   ],
   "source": [
    "#checking null values for all columns\n",
    "df_archive.isnull().sum()"
   ]
  },
  {
   "cell_type": "code",
   "execution_count": 28,
   "metadata": {},
   "outputs": [
    {
     "data": {
      "text/plain": [
       "False    2348\n",
       "dtype: int64"
      ]
     },
     "execution_count": 28,
     "metadata": {},
     "output_type": "execute_result"
    }
   ],
   "source": [
    "#duplicate values check\n",
    "df_archive.duplicated().value_counts()  #no duplicates which is great"
   ]
  },
  {
   "cell_type": "code",
   "execution_count": 29,
   "metadata": {},
   "outputs": [
    {
     "data": {
      "text/plain": [
       "tweet_id                      float64\n",
       "in_reply_to_status_id         float64\n",
       "in_reply_to_user_id           float64\n",
       "timestamp                      object\n",
       "source                         object\n",
       "text                           object\n",
       "retweeted_status_id           float64\n",
       "retweeted_status_user_id      float64\n",
       "retweeted_status_timestamp     object\n",
       "expanded_urls                  object\n",
       "rating_numerator                int64\n",
       "rating_denominator              int64\n",
       "name                           object\n",
       "doggo                          object\n",
       "floofer                        object\n",
       "pupper                         object\n",
       "puppo                          object\n",
       "dtype: object"
      ]
     },
     "execution_count": 29,
     "metadata": {},
     "output_type": "execute_result"
    }
   ],
   "source": [
    "df_archive.dtypes  \n",
    "\n",
    "# timestamp and retweeted_status_timestamp should be datetime datatype\n",
    "\n",
    "# in_reply_to_status_id, in_reply_to_user_id, retweeted_status_id, retweeted_status_user_id should be integers/strings instead of float\n",
    "\n"
   ]
  },
  {
   "cell_type": "code",
   "execution_count": 30,
   "metadata": {},
   "outputs": [
    {
     "data": {
      "text/plain": [
       "False    2292\n",
       "True       56\n",
       "Name: name, dtype: int64"
      ]
     },
     "execution_count": 30,
     "metadata": {},
     "output_type": "execute_result"
    }
   ],
   "source": [
    "(df_archive['name'].str.len()<= 1).value_counts() #checking dog names with just 1 letter to remove absurd data"
   ]
  },
  {
   "cell_type": "code",
   "execution_count": 31,
   "metadata": {},
   "outputs": [
    {
     "data": {
      "text/plain": [
       "(count    2348.000000\n",
       " mean       13.130750\n",
       " std        45.954706\n",
       " min         0.000000\n",
       " 25%        10.000000\n",
       " 50%        11.000000\n",
       " 75%        12.000000\n",
       " max      1776.000000\n",
       " Name: rating_numerator, dtype: float64, count    2348.000000\n",
       " mean       10.456985\n",
       " std         6.756671\n",
       " min         0.000000\n",
       " 25%        10.000000\n",
       " 50%        10.000000\n",
       " 75%        10.000000\n",
       " max       170.000000\n",
       " Name: rating_denominator, dtype: float64)"
      ]
     },
     "execution_count": 31,
     "metadata": {},
     "output_type": "execute_result"
    }
   ],
   "source": [
    "df_archive['rating_numerator'].describe()   ,   df_archive['rating_denominator'].describe()"
   ]
  },
  {
   "cell_type": "code",
   "execution_count": 32,
   "metadata": {},
   "outputs": [
    {
     "data": {
      "text/plain": [
       "10     2325\n",
       "11        3\n",
       "50        3\n",
       "80        2\n",
       "20        2\n",
       "2         1\n",
       "16        1\n",
       "40        1\n",
       "70        1\n",
       "15        1\n",
       "90        1\n",
       "110       1\n",
       "120       1\n",
       "130       1\n",
       "150       1\n",
       "170       1\n",
       "7         1\n",
       "0         1\n",
       "Name: rating_denominator, dtype: int64"
      ]
     },
     "execution_count": 32,
     "metadata": {},
     "output_type": "execute_result"
    }
   ],
   "source": [
    "df_archive['rating_denominator'].value_counts()"
   ]
  },
  {
   "cell_type": "code",
   "execution_count": 23,
   "metadata": {},
   "outputs": [
    {
     "data": {
      "text/plain": [
       "12      558\n",
       "11      464\n",
       "10      461\n",
       "13      351\n",
       "9       158\n",
       "8       102\n",
       "7        55\n",
       "14       54\n",
       "5        37\n",
       "6        32\n",
       "3        19\n",
       "4        17\n",
       "1         9\n",
       "2         9\n",
       "420       2\n",
       "0         2\n",
       "15        2\n",
       "75        2\n",
       "80        1\n",
       "20        1\n",
       "24        1\n",
       "26        1\n",
       "44        1\n",
       "50        1\n",
       "60        1\n",
       "165       1\n",
       "84        1\n",
       "88        1\n",
       "144       1\n",
       "182       1\n",
       "143       1\n",
       "666       1\n",
       "960       1\n",
       "1776      1\n",
       "17        1\n",
       "27        1\n",
       "45        1\n",
       "99        1\n",
       "121       1\n",
       "204       1\n",
       "Name: rating_numerator, dtype: int64"
      ]
     },
     "execution_count": 23,
     "metadata": {},
     "output_type": "execute_result"
    }
   ],
   "source": [
    "df_archive['rating_numerator'].value_counts()"
   ]
  },
  {
   "cell_type": "markdown",
   "metadata": {},
   "source": [
    "### Assess df_image dataframe"
   ]
  },
  {
   "cell_type": "code",
   "execution_count": 33,
   "metadata": {},
   "outputs": [
    {
     "name": "stdout",
     "output_type": "stream",
     "text": [
      "<class 'pandas.core.frame.DataFrame'>\n",
      "RangeIndex: 2075 entries, 0 to 2074\n",
      "Data columns (total 12 columns):\n",
      "tweet_id    2075 non-null int64\n",
      "jpg_url     2075 non-null object\n",
      "img_num     2075 non-null int64\n",
      "p1          2075 non-null object\n",
      "p1_conf     2075 non-null float64\n",
      "p1_dog      2075 non-null bool\n",
      "p2          2075 non-null object\n",
      "p2_conf     2075 non-null float64\n",
      "p2_dog      2075 non-null bool\n",
      "p3          2075 non-null object\n",
      "p3_conf     2075 non-null float64\n",
      "p3_dog      2075 non-null bool\n",
      "dtypes: bool(3), float64(3), int64(2), object(4)\n",
      "memory usage: 152.1+ KB\n"
     ]
    }
   ],
   "source": [
    "df_image.info()   #images dataframe analysis and great it seems no null values"
   ]
  },
  {
   "cell_type": "code",
   "execution_count": 34,
   "metadata": {},
   "outputs": [
    {
     "data": {
      "text/plain": [
       "tweet_id    0\n",
       "jpg_url     0\n",
       "img_num     0\n",
       "p1          0\n",
       "p1_conf     0\n",
       "p1_dog      0\n",
       "p2          0\n",
       "p2_conf     0\n",
       "p2_dog      0\n",
       "p3          0\n",
       "p3_conf     0\n",
       "p3_dog      0\n",
       "dtype: int64"
      ]
     },
     "execution_count": 34,
     "metadata": {},
     "output_type": "execute_result"
    }
   ],
   "source": [
    "df_image.isnull().sum()   #it seems no null values great"
   ]
  },
  {
   "cell_type": "code",
   "execution_count": 35,
   "metadata": {},
   "outputs": [
    {
     "data": {
      "text/plain": [
       "False    2075\n",
       "dtype: int64"
      ]
     },
     "execution_count": 35,
     "metadata": {},
     "output_type": "execute_result"
    }
   ],
   "source": [
    "df_image.duplicated().value_counts()   #no duplicates in this df"
   ]
  },
  {
   "cell_type": "markdown",
   "metadata": {},
   "source": [
    "### Assess df_tweetsdata dataframe"
   ]
  },
  {
   "cell_type": "code",
   "execution_count": 36,
   "metadata": {},
   "outputs": [
    {
     "name": "stdout",
     "output_type": "stream",
     "text": [
      "<class 'pandas.core.frame.DataFrame'>\n",
      "RangeIndex: 2331 entries, 0 to 2330\n",
      "Data columns (total 5 columns):\n",
      "tweet_id           2331 non-null int64\n",
      "favorites          2331 non-null int64\n",
      "retweets           2331 non-null int64\n",
      "user_favourites    2331 non-null int64\n",
      "date_time          2331 non-null object\n",
      "dtypes: int64(4), object(1)\n",
      "memory usage: 91.1+ KB\n"
     ]
    }
   ],
   "source": [
    "df_tweetsdata.info()"
   ]
  },
  {
   "cell_type": "code",
   "execution_count": 37,
   "metadata": {},
   "outputs": [
    {
     "data": {
      "text/html": [
       "<div>\n",
       "<style scoped>\n",
       "    .dataframe tbody tr th:only-of-type {\n",
       "        vertical-align: middle;\n",
       "    }\n",
       "\n",
       "    .dataframe tbody tr th {\n",
       "        vertical-align: top;\n",
       "    }\n",
       "\n",
       "    .dataframe thead th {\n",
       "        text-align: right;\n",
       "    }\n",
       "</style>\n",
       "<table border=\"1\" class=\"dataframe\">\n",
       "  <thead>\n",
       "    <tr style=\"text-align: right;\">\n",
       "      <th></th>\n",
       "      <th>tweet_id</th>\n",
       "      <th>favorites</th>\n",
       "      <th>retweets</th>\n",
       "      <th>user_favourites</th>\n",
       "    </tr>\n",
       "  </thead>\n",
       "  <tbody>\n",
       "    <tr>\n",
       "      <th>count</th>\n",
       "      <td>2.331000e+03</td>\n",
       "      <td>2331.000000</td>\n",
       "      <td>2331.000000</td>\n",
       "      <td>2331.000000</td>\n",
       "    </tr>\n",
       "    <tr>\n",
       "      <th>mean</th>\n",
       "      <td>7.419079e+17</td>\n",
       "      <td>7324.291291</td>\n",
       "      <td>2593.960532</td>\n",
       "      <td>145807.012441</td>\n",
       "    </tr>\n",
       "    <tr>\n",
       "      <th>std</th>\n",
       "      <td>6.823170e+16</td>\n",
       "      <td>11375.552911</td>\n",
       "      <td>4388.053648</td>\n",
       "      <td>0.110867</td>\n",
       "    </tr>\n",
       "    <tr>\n",
       "      <th>min</th>\n",
       "      <td>6.660209e+17</td>\n",
       "      <td>0.000000</td>\n",
       "      <td>1.000000</td>\n",
       "      <td>145807.000000</td>\n",
       "    </tr>\n",
       "    <tr>\n",
       "      <th>25%</th>\n",
       "      <td>6.782670e+17</td>\n",
       "      <td>1270.000000</td>\n",
       "      <td>526.000000</td>\n",
       "      <td>145807.000000</td>\n",
       "    </tr>\n",
       "    <tr>\n",
       "      <th>50%</th>\n",
       "      <td>7.182469e+17</td>\n",
       "      <td>3179.000000</td>\n",
       "      <td>1210.000000</td>\n",
       "      <td>145807.000000</td>\n",
       "    </tr>\n",
       "    <tr>\n",
       "      <th>75%</th>\n",
       "      <td>7.986692e+17</td>\n",
       "      <td>8953.000000</td>\n",
       "      <td>3004.000000</td>\n",
       "      <td>145807.000000</td>\n",
       "    </tr>\n",
       "    <tr>\n",
       "      <th>max</th>\n",
       "      <td>8.924206e+17</td>\n",
       "      <td>150820.000000</td>\n",
       "      <td>74453.000000</td>\n",
       "      <td>145808.000000</td>\n",
       "    </tr>\n",
       "  </tbody>\n",
       "</table>\n",
       "</div>"
      ],
      "text/plain": [
       "           tweet_id      favorites      retweets  user_favourites\n",
       "count  2.331000e+03    2331.000000   2331.000000      2331.000000\n",
       "mean   7.419079e+17    7324.291291   2593.960532    145807.012441\n",
       "std    6.823170e+16   11375.552911   4388.053648         0.110867\n",
       "min    6.660209e+17       0.000000      1.000000    145807.000000\n",
       "25%    6.782670e+17    1270.000000    526.000000    145807.000000\n",
       "50%    7.182469e+17    3179.000000   1210.000000    145807.000000\n",
       "75%    7.986692e+17    8953.000000   3004.000000    145807.000000\n",
       "max    8.924206e+17  150820.000000  74453.000000    145808.000000"
      ]
     },
     "execution_count": 37,
     "metadata": {},
     "output_type": "execute_result"
    }
   ],
   "source": [
    "df_tweetsdata.describe()"
   ]
  },
  {
   "cell_type": "code",
   "execution_count": 38,
   "metadata": {},
   "outputs": [
    {
     "data": {
      "text/plain": [
       "tweet_id           0\n",
       "favorites          0\n",
       "retweets           0\n",
       "user_favourites    0\n",
       "date_time          0\n",
       "dtype: int64"
      ]
     },
     "execution_count": 38,
     "metadata": {},
     "output_type": "execute_result"
    }
   ],
   "source": [
    "df_tweetsdata.isnull().sum()   #no null values identified"
   ]
  },
  {
   "cell_type": "code",
   "execution_count": 39,
   "metadata": {},
   "outputs": [
    {
     "data": {
      "text/plain": [
       "False    2331\n",
       "dtype: int64"
      ]
     },
     "execution_count": 39,
     "metadata": {},
     "output_type": "execute_result"
    }
   ],
   "source": [
    "df_tweetsdata.duplicated().value_counts()   #no duplicates identified"
   ]
  },
  {
   "cell_type": "markdown",
   "metadata": {},
   "source": [
    "## Issues found after Assessment:-\n",
    "\n",
    "\n",
    "\n",
    "### Quality Issues - \n",
    "\n",
    "#### df_archive  dataframe\n",
    "\n",
    "1.  Delete Retweet data and Remove columns with missing data no longer       needed missing data :- retweeted_status_id ,retweeted_status_user_id     ,retweeted_status_timestamp,in_reply_to_status_id,in_reply_to_user_id  \n",
    "2. timestamp should be datetime datatype\n",
    "\n",
    "3. Clean the content of source column, make it more readable.\n",
    "\n",
    "4. Multiple dog life stages issues\n",
    "\n",
    "5. Dog life stages missing issue\n",
    "\n",
    "6. Fix Dogs name with  single character or null values \n",
    "\n",
    "####  df_tweetsdata dataframe\n",
    "\n",
    "\n",
    "7. datetime should be of datatime datatype instead of string \n",
    "\n",
    "\n",
    "#### df_archive  dataframe\n",
    "\n",
    "\n",
    "8. solve multiple dog stages issue\n",
    "\n",
    "#### df_image dataframe\n",
    "\n",
    "9. p1_conf, p2_conf and p3_conf and p1_dog,p2_dog,p3_dog columns merged for ,meaningful insights and df_image should only have jpg_url and tweet_id, breed and image no info from p1,p2,p3 columns \n",
    " \n",
    "\n",
    "\n",
    "### Tidiness Issues - \n",
    "\n",
    "\n",
    "#### df_archive  dataframe\n",
    "\n",
    "1. Combine dog stages into one column\n",
    "\n",
    "\n",
    "\n",
    "#### All clean dataframes should be merged into one in the last\n",
    "2. df_archive_clean df should be joined to df_image_clean  and df_tweetsdata_clean\n",
    "\n",
    "\n",
    "\n"
   ]
  },
  {
   "cell_type": "markdown",
   "metadata": {},
   "source": [
    "<a id = \"Clean\"></a>\n",
    "\n",
    "## 3. Clean Data using template  Define, Code, Test"
   ]
  },
  {
   "cell_type": "markdown",
   "metadata": {},
   "source": [
    "### Define\n",
    "Qual 1) Delete retweet data remove columns with missing data no longer needed :- retweeted_status_id ,retweeted_status_user_id , retweeted_status_timestamp , in_reply_to_status_id,in_reply_to_user_id\n",
    "since these "
   ]
  },
  {
   "cell_type": "code",
   "execution_count": 9,
   "metadata": {},
   "outputs": [
    {
     "name": "stdout",
     "output_type": "stream",
     "text": [
      "<class 'pandas.core.frame.DataFrame'>\n",
      "RangeIndex: 2348 entries, 0 to 2347\n",
      "Data columns (total 17 columns):\n",
      "tweet_id                      2348 non-null float64\n",
      "in_reply_to_status_id         77 non-null float64\n",
      "in_reply_to_user_id           77 non-null float64\n",
      "timestamp                     2348 non-null object\n",
      "source                        2348 non-null object\n",
      "text                          2348 non-null object\n",
      "retweeted_status_id           179 non-null float64\n",
      "retweeted_status_user_id      179 non-null float64\n",
      "retweeted_status_timestamp    179 non-null object\n",
      "expanded_urls                 2289 non-null object\n",
      "rating_numerator              2348 non-null int64\n",
      "rating_denominator            2348 non-null int64\n",
      "name                          2348 non-null object\n",
      "doggo                         2348 non-null object\n",
      "floofer                       2348 non-null object\n",
      "pupper                        2348 non-null object\n",
      "puppo                         2348 non-null object\n",
      "dtypes: float64(5), int64(2), object(10)\n",
      "memory usage: 311.9+ KB\n"
     ]
    }
   ],
   "source": [
    "df_archive.info()  #initial rows before retweets deletion"
   ]
  },
  {
   "cell_type": "markdown",
   "metadata": {},
   "source": [
    "### Code"
   ]
  },
  {
   "cell_type": "code",
   "execution_count": 10,
   "metadata": {},
   "outputs": [],
   "source": [
    "\n",
    "# Make copies to preserve the original datasets\n",
    "df_archive_clean = df_archive.copy()\n",
    "df_image_clean = df_image.copy()\n",
    "df_tweetsdata_clean = df_tweetsdata.copy()"
   ]
  },
  {
   "cell_type": "code",
   "execution_count": 11,
   "metadata": {},
   "outputs": [],
   "source": [
    "#delete retweets using status related data \n",
    "df_archive_clean = df_archive_clean[df_archive_clean.retweeted_status_id.isnull()]\n",
    "df_archive_clean = df_archive_clean[df_archive_clean.retweeted_status_timestamp.isnull()]\n",
    "df_archive_clean = df_archive_clean[df_archive_clean.retweeted_status_user_id.isnull()]"
   ]
  },
  {
   "cell_type": "code",
   "execution_count": 12,
   "metadata": {},
   "outputs": [],
   "source": [
    "# Delete columns we don't need anymore\n",
    "df_archive_clean.drop('retweeted_status_id', axis=1, inplace=True)\n",
    "df_archive_clean.drop('retweeted_status_user_id', axis=1, inplace=True)\n",
    "df_archive_clean.drop('retweeted_status_timestamp', axis=1, inplace=True)\n",
    "df_archive_clean.drop('in_reply_to_status_id', axis=1, inplace=True)\n",
    "df_archive_clean.drop('in_reply_to_user_id', axis=1, inplace=True)\n",
    "\n"
   ]
  },
  {
   "cell_type": "markdown",
   "metadata": {},
   "source": [
    "### Test"
   ]
  },
  {
   "cell_type": "code",
   "execution_count": 13,
   "metadata": {},
   "outputs": [
    {
     "name": "stdout",
     "output_type": "stream",
     "text": [
      "<class 'pandas.core.frame.DataFrame'>\n",
      "Int64Index: 2169 entries, 0 to 2347\n",
      "Data columns (total 12 columns):\n",
      "tweet_id              2169 non-null float64\n",
      "timestamp             2169 non-null object\n",
      "source                2169 non-null object\n",
      "text                  2169 non-null object\n",
      "expanded_urls         2111 non-null object\n",
      "rating_numerator      2169 non-null int64\n",
      "rating_denominator    2169 non-null int64\n",
      "name                  2169 non-null object\n",
      "doggo                 2169 non-null object\n",
      "floofer               2169 non-null object\n",
      "pupper                2169 non-null object\n",
      "puppo                 2169 non-null object\n",
      "dtypes: float64(1), int64(2), object(9)\n",
      "memory usage: 220.3+ KB\n"
     ]
    }
   ],
   "source": [
    "# check clean dataframe\n",
    "\n",
    "df_archive_clean.info()"
   ]
  },
  {
   "cell_type": "markdown",
   "metadata": {},
   "source": [
    "### Define\n",
    "Qual 2) timestamp should be datetime datatype\n"
   ]
  },
  {
   "cell_type": "markdown",
   "metadata": {},
   "source": [
    "### Code"
   ]
  },
  {
   "cell_type": "code",
   "execution_count": 14,
   "metadata": {},
   "outputs": [],
   "source": [
    "# change column dfatatype\n",
    "\n",
    "\n",
    "df_archive_clean['timestamp'] = pd.to_datetime(df_archive_clean['timestamp'], format='%Y-%m-%d %H:%M:%S')\n",
    "\n"
   ]
  },
  {
   "cell_type": "markdown",
   "metadata": {},
   "source": [
    "### Test"
   ]
  },
  {
   "cell_type": "code",
   "execution_count": 46,
   "metadata": {
    "scrolled": true
   },
   "outputs": [
    {
     "name": "stdout",
     "output_type": "stream",
     "text": [
      "<class 'pandas.core.frame.DataFrame'>\n",
      "Int64Index: 2169 entries, 0 to 2347\n",
      "Data columns (total 12 columns):\n",
      "tweet_id              2169 non-null float64\n",
      "timestamp             2169 non-null datetime64[ns]\n",
      "source                2169 non-null object\n",
      "text                  2169 non-null object\n",
      "expanded_urls         2111 non-null object\n",
      "rating_numerator      2169 non-null int64\n",
      "rating_denominator    2169 non-null int64\n",
      "name                  2169 non-null object\n",
      "doggo                 2169 non-null object\n",
      "floofer               2169 non-null object\n",
      "pupper                2169 non-null object\n",
      "puppo                 2169 non-null object\n",
      "dtypes: datetime64[ns](1), float64(1), int64(2), object(8)\n",
      "memory usage: 220.3+ KB\n"
     ]
    }
   ],
   "source": [
    "#check all columns again \n",
    "df_archive_clean.info()"
   ]
  },
  {
   "cell_type": "markdown",
   "metadata": {},
   "source": [
    "### Define\n",
    "Qual 3) Clean the content of source column, make it more readable."
   ]
  },
  {
   "cell_type": "markdown",
   "metadata": {},
   "source": [
    "### Code"
   ]
  },
  {
   "cell_type": "code",
   "execution_count": 15,
   "metadata": {
    "scrolled": true
   },
   "outputs": [
    {
     "data": {
      "text/plain": [
       "<a href=\"http://twitter.com/download/iphone\" rel=\"nofollow\">Twitter for iPhone</a>     2037\n",
       "<a href=\"http://vine.co\" rel=\"nofollow\">Vine - Make a Scene</a>                          90\n",
       "<a href=\"http://twitter.com\" rel=\"nofollow\">Twitter Web Client</a>                       31\n",
       "<a href=\"https://about.twitter.com/products/tweetdeck\" rel=\"nofollow\">TweetDeck</a>      11\n",
       "Name: source, dtype: int64"
      ]
     },
     "execution_count": 15,
     "metadata": {},
     "output_type": "execute_result"
    }
   ],
   "source": [
    "# before cleaning source column so that more meaningful data can be extracted\n",
    "\n",
    "df_archive_clean['source'].value_counts()\n",
    "\n"
   ]
  },
  {
   "cell_type": "code",
   "execution_count": 16,
   "metadata": {},
   "outputs": [],
   "source": [
    "# cleaning source column so that more meaningful data can be extracted\n",
    "\n",
    "df_archive_clean['source'] = df_archive_clean['source'].apply(lambda x: re.findall(r'>(.*)<', x)[0])\n",
    "\n",
    "\n"
   ]
  },
  {
   "cell_type": "markdown",
   "metadata": {},
   "source": [
    "### Test"
   ]
  },
  {
   "cell_type": "code",
   "execution_count": 48,
   "metadata": {
    "scrolled": true
   },
   "outputs": [
    {
     "data": {
      "text/plain": [
       "Twitter for iPhone     2037\n",
       "Vine - Make a Scene      90\n",
       "Twitter Web Client       31\n",
       "TweetDeck                11\n",
       "Name: source, dtype: int64"
      ]
     },
     "execution_count": 48,
     "metadata": {},
     "output_type": "execute_result"
    }
   ],
   "source": [
    "#check all columns again \n",
    "df_archive_clean.source.value_counts()"
   ]
  },
  {
   "cell_type": "markdown",
   "metadata": {},
   "source": [
    "### Define\n",
    "Qual 4)Multiple life stages or dog types columns issue"
   ]
  },
  {
   "cell_type": "markdown",
   "metadata": {},
   "source": [
    "### Code"
   ]
  },
  {
   "cell_type": "code",
   "execution_count": 17,
   "metadata": {},
   "outputs": [
    {
     "data": {
      "text/plain": [
       "(None     2093\n",
       " doggo      76\n",
       " Name: doggo, dtype: int64, None      1943\n",
       " pupper     226\n",
       " Name: pupper, dtype: int64, None       2159\n",
       " floofer      10\n",
       " Name: floofer, dtype: int64, None     2144\n",
       " puppo      25\n",
       " Name: puppo, dtype: int64)"
      ]
     },
     "execution_count": 17,
     "metadata": {},
     "output_type": "execute_result"
    }
   ],
   "source": [
    "#count after manual cleaning from excel file\n",
    "\n",
    "\n",
    "df_archive_clean.doggo.value_counts()  ,  df_archive_clean.pupper.value_counts()    ,  df_archive_clean.floofer.value_counts()   , df_archive_clean.puppo.value_counts()"
   ]
  },
  {
   "cell_type": "code",
   "execution_count": 18,
   "metadata": {},
   "outputs": [
    {
     "data": {
      "text/html": [
       "<div>\n",
       "<style scoped>\n",
       "    .dataframe tbody tr th:only-of-type {\n",
       "        vertical-align: middle;\n",
       "    }\n",
       "\n",
       "    .dataframe tbody tr th {\n",
       "        vertical-align: top;\n",
       "    }\n",
       "\n",
       "    .dataframe thead th {\n",
       "        text-align: right;\n",
       "    }\n",
       "</style>\n",
       "<table border=\"1\" class=\"dataframe\">\n",
       "  <thead>\n",
       "    <tr style=\"text-align: right;\">\n",
       "      <th></th>\n",
       "      <th>tweet_id</th>\n",
       "      <th>timestamp</th>\n",
       "      <th>source</th>\n",
       "      <th>text</th>\n",
       "      <th>expanded_urls</th>\n",
       "      <th>rating_numerator</th>\n",
       "      <th>rating_denominator</th>\n",
       "      <th>name</th>\n",
       "      <th>doggo</th>\n",
       "      <th>floofer</th>\n",
       "      <th>pupper</th>\n",
       "      <th>puppo</th>\n",
       "    </tr>\n",
       "  </thead>\n",
       "  <tbody>\n",
       "    <tr>\n",
       "      <th>573</th>\n",
       "      <td>8.010000e+17</td>\n",
       "      <td>2016-11-22 17:28:25</td>\n",
       "      <td>Twitter for iPhone</td>\n",
       "      <td>This is Bones. He's being haunted by another d...</td>\n",
       "      <td>https://twitter.com/dog_rates/status/801115127...</td>\n",
       "      <td>12</td>\n",
       "      <td>10</td>\n",
       "      <td>Bones</td>\n",
       "      <td>None</td>\n",
       "      <td>None</td>\n",
       "      <td>pupper</td>\n",
       "      <td>None</td>\n",
       "    </tr>\n",
       "    <tr>\n",
       "      <th>703</th>\n",
       "      <td>7.860000e+17</td>\n",
       "      <td>2016-10-11 00:34:48</td>\n",
       "      <td>Twitter for iPhone</td>\n",
       "      <td>This is Pinot. He's a sophisticated doggo. You...</td>\n",
       "      <td>https://twitter.com/dog_rates/status/785639753...</td>\n",
       "      <td>10</td>\n",
       "      <td>10</td>\n",
       "      <td>Pinot</td>\n",
       "      <td>doggo</td>\n",
       "      <td>None</td>\n",
       "      <td>None</td>\n",
       "      <td>None</td>\n",
       "    </tr>\n",
       "    <tr>\n",
       "      <th>950</th>\n",
       "      <td>7.520000e+17</td>\n",
       "      <td>2016-07-09 01:08:47</td>\n",
       "      <td>Twitter for iPhone</td>\n",
       "      <td>Please stop sending it pictures that don't eve...</td>\n",
       "      <td>https://twitter.com/dog_rates/status/751583847...</td>\n",
       "      <td>5</td>\n",
       "      <td>10</td>\n",
       "      <td>None</td>\n",
       "      <td>None</td>\n",
       "      <td>None</td>\n",
       "      <td>None</td>\n",
       "      <td>None</td>\n",
       "    </tr>\n",
       "  </tbody>\n",
       "</table>\n",
       "</div>"
      ],
      "text/plain": [
       "         tweet_id           timestamp              source  \\\n",
       "573  8.010000e+17 2016-11-22 17:28:25  Twitter for iPhone   \n",
       "703  7.860000e+17 2016-10-11 00:34:48  Twitter for iPhone   \n",
       "950  7.520000e+17 2016-07-09 01:08:47  Twitter for iPhone   \n",
       "\n",
       "                                                  text  \\\n",
       "573  This is Bones. He's being haunted by another d...   \n",
       "703  This is Pinot. He's a sophisticated doggo. You...   \n",
       "950  Please stop sending it pictures that don't eve...   \n",
       "\n",
       "                                         expanded_urls  rating_numerator  \\\n",
       "573  https://twitter.com/dog_rates/status/801115127...                12   \n",
       "703  https://twitter.com/dog_rates/status/785639753...                10   \n",
       "950  https://twitter.com/dog_rates/status/751583847...                 5   \n",
       "\n",
       "     rating_denominator   name  doggo floofer  pupper puppo  \n",
       "573                  10  Bones   None    None  pupper  None  \n",
       "703                  10  Pinot  doggo    None    None  None  \n",
       "950                  10   None   None    None    None  None  "
      ]
     },
     "execution_count": 18,
     "metadata": {},
     "output_type": "execute_result"
    }
   ],
   "source": [
    "# programatically also checking and deleting multiple dog stages for doggo and pupper case \n",
    "\n",
    "\n",
    "\n",
    "df_archive_clean.query('text.str.contains(\"doggo\").values & text.str.contains(\"pupper\").values')\n",
    "\n"
   ]
  },
  {
   "cell_type": "code",
   "execution_count": 19,
   "metadata": {},
   "outputs": [
    {
     "data": {
      "text/plain": [
       "Int64Index([573, 703, 950], dtype='int64')"
      ]
     },
     "execution_count": 19,
     "metadata": {},
     "output_type": "execute_result"
    }
   ],
   "source": [
    "#checking index column values for these rows again\n",
    "\n",
    "df_archive_clean[(df_archive_clean.text.str.contains(\"doggo\").values) & (df_archive_clean.text.str.contains(\"pupper\").values)].index\n",
    "\n"
   ]
  },
  {
   "cell_type": "code",
   "execution_count": 20,
   "metadata": {},
   "outputs": [
    {
     "data": {
      "text/plain": [
       "Int64Index([172, 191], dtype='int64')"
      ]
     },
     "execution_count": 20,
     "metadata": {},
     "output_type": "execute_result"
    }
   ],
   "source": [
    "# some more combination column\n",
    "\n",
    "df_archive_clean[(df_archive_clean.text.str.contains(\"doggo\").values) & (df_archive_clean.text.str.contains(\"puppo\").values)].index\n"
   ]
  },
  {
   "cell_type": "code",
   "execution_count": 21,
   "metadata": {},
   "outputs": [],
   "source": [
    "#drop these rows\n",
    "\n",
    "df_archive_clean.drop(df_archive_clean[df_archive_clean.text.str.contains(\"doggo\").values & df_archive_clean.text.str.contains(\"pupper\").values].index ,inplace=True)\n",
    "\n",
    "\n",
    "df_archive_clean.drop(df_archive_clean[df_archive_clean.text.str.contains(\"doggo\").values & df_archive_clean.text.str.contains(\"puppo\").values].index , inplace=True)\n"
   ]
  },
  {
   "cell_type": "markdown",
   "metadata": {},
   "source": [
    "### Test"
   ]
  },
  {
   "cell_type": "code",
   "execution_count": 22,
   "metadata": {
    "scrolled": false
   },
   "outputs": [
    {
     "data": {
      "text/plain": [
       "Int64Index([], dtype='int64')"
      ]
     },
     "execution_count": 22,
     "metadata": {},
     "output_type": "execute_result"
    }
   ],
   "source": [
    "#check again for confirmation\n",
    "df_archive_clean[(df_archive_clean.text.str.contains(\"doggo\").values) & (df_archive_clean.text.str.contains(\"pupper\").values)].index\n",
    "\n"
   ]
  },
  {
   "cell_type": "code",
   "execution_count": 23,
   "metadata": {},
   "outputs": [
    {
     "data": {
      "text/plain": [
       "Int64Index([], dtype='int64')"
      ]
     },
     "execution_count": 23,
     "metadata": {},
     "output_type": "execute_result"
    }
   ],
   "source": [
    "df_archive_clean[(df_archive_clean.text.str.contains(\"doggo\").values) & (df_archive_clean.text.str.contains(\"puppo\").values)].index\n"
   ]
  },
  {
   "cell_type": "code",
   "execution_count": 24,
   "metadata": {},
   "outputs": [
    {
     "name": "stdout",
     "output_type": "stream",
     "text": [
      "<class 'pandas.core.frame.DataFrame'>\n",
      "Int64Index: 2164 entries, 0 to 2347\n",
      "Data columns (total 12 columns):\n",
      "tweet_id              2164 non-null float64\n",
      "timestamp             2164 non-null datetime64[ns]\n",
      "source                2164 non-null object\n",
      "text                  2164 non-null object\n",
      "expanded_urls         2106 non-null object\n",
      "rating_numerator      2164 non-null int64\n",
      "rating_denominator    2164 non-null int64\n",
      "name                  2164 non-null object\n",
      "doggo                 2164 non-null object\n",
      "floofer               2164 non-null object\n",
      "pupper                2164 non-null object\n",
      "puppo                 2164 non-null object\n",
      "dtypes: datetime64[ns](1), float64(1), int64(2), object(8)\n",
      "memory usage: 219.8+ KB\n"
     ]
    }
   ],
   "source": [
    "df_archive_clean.info()"
   ]
  },
  {
   "cell_type": "markdown",
   "metadata": {},
   "source": [
    "### Define\n",
    "Qual 5)Mismatch dog type or life stages issue"
   ]
  },
  {
   "cell_type": "markdown",
   "metadata": {},
   "source": [
    "### Code"
   ]
  },
  {
   "cell_type": "code",
   "execution_count": 25,
   "metadata": {},
   "outputs": [
    {
     "data": {
      "text/plain": [
       "['doggo', 'floofer', 'pupper', 'puppo']"
      ]
     },
     "execution_count": 25,
     "metadata": {},
     "output_type": "execute_result"
    }
   ],
   "source": [
    "dog_types = list(df_archive_clean.iloc[:,-4:])\n",
    "dog_types"
   ]
  },
  {
   "cell_type": "code",
   "execution_count": 26,
   "metadata": {},
   "outputs": [],
   "source": [
    "def find_dog_type(df, dog_type):\n",
    "    dog_list = []\n",
    "    for row in df['text']:\n",
    "        if dog_type in row:\n",
    "            dog_list.append(dog_type)\n",
    "        else:\n",
    "            dog_list.append(np.NaN)\n",
    "    return dog_list"
   ]
  },
  {
   "cell_type": "code",
   "execution_count": 27,
   "metadata": {},
   "outputs": [],
   "source": [
    "for dog_type in dog_types:\n",
    "    df_archive_clean[dog_type] = find_dog_type(df_archive_clean, dog_type)"
   ]
  },
  {
   "cell_type": "markdown",
   "metadata": {},
   "source": [
    "### Test"
   ]
  },
  {
   "cell_type": "code",
   "execution_count": 28,
   "metadata": {
    "scrolled": false
   },
   "outputs": [
    {
     "name": "stdout",
     "output_type": "stream",
     "text": [
      "<class 'pandas.core.frame.DataFrame'>\n",
      "Int64Index: 2164 entries, 0 to 2347\n",
      "Data columns (total 4 columns):\n",
      "doggo      78 non-null object\n",
      "floofer    4 non-null object\n",
      "pupper     242 non-null object\n",
      "puppo      30 non-null object\n",
      "dtypes: object(4)\n",
      "memory usage: 84.5+ KB\n"
     ]
    }
   ],
   "source": [
    "#check all columns again \n",
    "df_archive_clean[dog_types].info()"
   ]
  },
  {
   "cell_type": "code",
   "execution_count": 29,
   "metadata": {},
   "outputs": [
    {
     "name": "stdout",
     "output_type": "stream",
     "text": [
      "doggo 78\n",
      "floofer 4\n",
      "pupper 242\n",
      "puppo 30\n"
     ]
    }
   ],
   "source": [
    "\n",
    "# Compare to counts from text\n",
    "for dog_type in dog_types:\n",
    "    print(dog_type, df_archive_clean.text.str.contains(dog_type).sum())"
   ]
  },
  {
   "cell_type": "markdown",
   "metadata": {},
   "source": [
    "### Define\n",
    "Qual 6)Fix Dogs name with single character or null values"
   ]
  },
  {
   "cell_type": "markdown",
   "metadata": {},
   "source": [
    "### Code"
   ]
  },
  {
   "cell_type": "code",
   "execution_count": 73,
   "metadata": {},
   "outputs": [],
   "source": [
    "# fix absurd and short adjectives confused as name as well as None names\n",
    "\n",
    "\n",
    "\n",
    "\n",
    "words = df_archive[df_archive.name.str.islower()].name.unique()\n",
    "\n",
    "\n",
    "df_archive_clean['name'] = df_archive_clean['name'].replace(words, np.nan)\n",
    "df_archive_clean['name'] = df_archive_clean['name'].replace('None', np.nan)\n",
    "df_archive_clean.name = df_archive_clean.name.str.replace('^[a-z]+', 'None')\n"
   ]
  },
  {
   "cell_type": "code",
   "execution_count": 74,
   "metadata": {},
   "outputs": [
    {
     "data": {
      "text/plain": [
       "0          Phineas\n",
       "1            Tilly\n",
       "2           Archie\n",
       "3            Darla\n",
       "4         Franklin\n",
       "6              Jax\n",
       "8             Zoey\n",
       "9           Cassie\n",
       "10            Koda\n",
       "11           Bruno\n",
       "13             Ted\n",
       "14          Stuart\n",
       "15          Oliver\n",
       "16             Jim\n",
       "17            Zeke\n",
       "18         Ralphus\n",
       "19          Canela\n",
       "20          Gerald\n",
       "21         Jeffrey\n",
       "23          Canela\n",
       "26            Maya\n",
       "27          Mingus\n",
       "28           Derek\n",
       "29          Roscoe\n",
       "31         Waffles\n",
       "33           Jimbo\n",
       "34          Maisey\n",
       "36           Lilly\n",
       "38            Earl\n",
       "39            Lola\n",
       "           ...    \n",
       "2260          Dook\n",
       "2262          Hall\n",
       "2263      Philippe\n",
       "2266         Reese\n",
       "2267       Cupcake\n",
       "2271         Biden\n",
       "2272          Fwed\n",
       "2274     Genevieve\n",
       "2275        Joshwa\n",
       "2278       Timison\n",
       "2281      Clarence\n",
       "2282       Kenneth\n",
       "2283       Churlie\n",
       "2284       Bradlay\n",
       "2285         Pipsy\n",
       "2287          Gabe\n",
       "2288         Clybe\n",
       "2289          Dave\n",
       "2292          Keet\n",
       "2294        Klevin\n",
       "2295         Carll\n",
       "2300          Jeph\n",
       "2301       Jockson\n",
       "2304         Josep\n",
       "2305         Lugan\n",
       "2307    Christoper\n",
       "2309       Jimothy\n",
       "2310      Kreggory\n",
       "2311         Scout\n",
       "2317        Walter\n",
       "Name: name, Length: 1501, dtype: object"
      ]
     },
     "execution_count": 74,
     "metadata": {},
     "output_type": "execute_result"
    }
   ],
   "source": [
    "df_archive_clean['name'].dropna()"
   ]
  },
  {
   "cell_type": "markdown",
   "metadata": {},
   "source": [
    "### Test"
   ]
  },
  {
   "cell_type": "code",
   "execution_count": 75,
   "metadata": {
    "scrolled": true
   },
   "outputs": [
    {
     "data": {
      "text/plain": [
       "Charlie     12\n",
       "Lucy        11\n",
       "Oliver      11\n",
       "Cooper      11\n",
       "Tucker      10\n",
       "Lola        10\n",
       "Penny       10\n",
       "Winston      9\n",
       "Bo           9\n",
       "Sadie        8\n",
       "Toby         7\n",
       "Buddy        7\n",
       "Daisy        7\n",
       "Bailey       7\n",
       "Rusty        6\n",
       "Bella        6\n",
       "Jax          6\n",
       "Milo         6\n",
       "Leo          6\n",
       "Stanley      6\n",
       "Scout        6\n",
       "Jack         6\n",
       "Dave         6\n",
       "Oscar        6\n",
       "Koda         6\n",
       "George       5\n",
       "Louis        5\n",
       "Gus          5\n",
       "Sammy        5\n",
       "Larry        5\n",
       "            ..\n",
       "Blue         1\n",
       "Colin        1\n",
       "Yoda         1\n",
       "Keet         1\n",
       "Bobble       1\n",
       "Murphy       1\n",
       "Stuart       1\n",
       "Kellogg      1\n",
       "Eevee        1\n",
       "Mingus       1\n",
       "Barney       1\n",
       "Gert         1\n",
       "Winifred     1\n",
       "Blakely      1\n",
       "Pete         1\n",
       "Leonidas     1\n",
       "Tonks        1\n",
       "Benny        1\n",
       "Bronte       1\n",
       "Monster      1\n",
       "Kial         1\n",
       "Brownie      1\n",
       "Brudge       1\n",
       "Rey          1\n",
       "Jett         1\n",
       "Craig        1\n",
       "Bertson      1\n",
       "Cupid        1\n",
       "Grady        1\n",
       "Holly        1\n",
       "Name: name, Length: 931, dtype: int64"
      ]
     },
     "execution_count": 75,
     "metadata": {},
     "output_type": "execute_result"
    }
   ],
   "source": [
    "#check all columns again \n",
    "df_archive_clean.name.value_counts()"
   ]
  },
  {
   "cell_type": "code",
   "execution_count": 76,
   "metadata": {},
   "outputs": [
    {
     "data": {
      "text/plain": [
       "count        1501\n",
       "unique        931\n",
       "top       Charlie\n",
       "freq           12\n",
       "Name: name, dtype: object"
      ]
     },
     "execution_count": 76,
     "metadata": {},
     "output_type": "execute_result"
    }
   ],
   "source": [
    "df_archive_clean['name'].describe()"
   ]
  },
  {
   "cell_type": "markdown",
   "metadata": {},
   "source": [
    "### Define\n",
    "Qual 7) date_time should be of datatime datatype instead of string"
   ]
  },
  {
   "cell_type": "markdown",
   "metadata": {},
   "source": [
    "### Code"
   ]
  },
  {
   "cell_type": "code",
   "execution_count": 34,
   "metadata": {},
   "outputs": [],
   "source": [
    "# drop retweet and reply status not analysis worthy columns\n",
    "\n",
    "df_tweetsdata_clean['date_time'] = pd.to_datetime(df_tweetsdata_clean['date_time'], format='%Y-%m-%d %H:%M:%S')\n",
    "\n"
   ]
  },
  {
   "cell_type": "markdown",
   "metadata": {},
   "source": [
    "### Test"
   ]
  },
  {
   "cell_type": "code",
   "execution_count": 66,
   "metadata": {
    "scrolled": true
   },
   "outputs": [
    {
     "name": "stdout",
     "output_type": "stream",
     "text": [
      "<class 'pandas.core.frame.DataFrame'>\n",
      "RangeIndex: 2331 entries, 0 to 2330\n",
      "Data columns (total 5 columns):\n",
      "tweet_id           2331 non-null int64\n",
      "favorites          2331 non-null int64\n",
      "retweets           2331 non-null int64\n",
      "user_favourites    2331 non-null int64\n",
      "date_time          2331 non-null datetime64[ns]\n",
      "dtypes: datetime64[ns](1), int64(4)\n",
      "memory usage: 91.1 KB\n"
     ]
    }
   ],
   "source": [
    "#check all columns again \n",
    "df_tweetsdata_clean.info()"
   ]
  },
  {
   "cell_type": "markdown",
   "metadata": {},
   "source": [
    "### Define\n",
    "Qual  8)user_favourites value is same for all rows and we can delete this column or keep it but its of no use"
   ]
  },
  {
   "cell_type": "markdown",
   "metadata": {},
   "source": [
    "### Code"
   ]
  },
  {
   "cell_type": "code",
   "execution_count": 35,
   "metadata": {},
   "outputs": [],
   "source": [
    "# drop retweet and reply status not analysis worthy columns\n",
    "\n",
    "\n",
    "df_tweetsdata_clean.drop(['user_favourites'], axis=1, inplace=True)"
   ]
  },
  {
   "cell_type": "markdown",
   "metadata": {},
   "source": [
    "### Test"
   ]
  },
  {
   "cell_type": "code",
   "execution_count": 36,
   "metadata": {
    "scrolled": false
   },
   "outputs": [
    {
     "name": "stdout",
     "output_type": "stream",
     "text": [
      "<class 'pandas.core.frame.DataFrame'>\n",
      "RangeIndex: 2331 entries, 0 to 2330\n",
      "Data columns (total 4 columns):\n",
      "tweet_id     2331 non-null int64\n",
      "favorites    2331 non-null int64\n",
      "retweets     2331 non-null int64\n",
      "date_time    2331 non-null datetime64[ns]\n",
      "dtypes: datetime64[ns](1), int64(3)\n",
      "memory usage: 72.9 KB\n"
     ]
    }
   ],
   "source": [
    "#check all columns again \n",
    "df_tweetsdata_clean.info()"
   ]
  },
  {
   "cell_type": "markdown",
   "metadata": {},
   "source": [
    "### Define\n",
    "Qual 8) p1, p2 and p3 should be categoral datatype"
   ]
  },
  {
   "cell_type": "markdown",
   "metadata": {},
   "source": [
    "### Code"
   ]
  },
  {
   "cell_type": "code",
   "execution_count": 37,
   "metadata": {},
   "outputs": [],
   "source": [
    "# convert to category datatype\n",
    "\n",
    "df_image_clean['p1'] = df_image_clean['p1'].astype('category')\n",
    "df_image_clean['p2'] = df_image_clean['p2'].astype('category')\n",
    "df_image_clean['p3'] = df_image_clean['p3'].astype('category')\n",
    "\n",
    "#p1_conf, p2_conf and p3_conf columns should be merged\n",
    "#p1_dog, p2_dog and p3_dog columns should be merged\n"
   ]
  },
  {
   "cell_type": "markdown",
   "metadata": {},
   "source": [
    "### Test"
   ]
  },
  {
   "cell_type": "code",
   "execution_count": 38,
   "metadata": {
    "scrolled": true
   },
   "outputs": [
    {
     "name": "stdout",
     "output_type": "stream",
     "text": [
      "<class 'pandas.core.frame.DataFrame'>\n",
      "RangeIndex: 2075 entries, 0 to 2074\n",
      "Data columns (total 12 columns):\n",
      "tweet_id    2075 non-null int64\n",
      "jpg_url     2075 non-null object\n",
      "img_num     2075 non-null int64\n",
      "p1          2075 non-null category\n",
      "p1_conf     2075 non-null float64\n",
      "p1_dog      2075 non-null bool\n",
      "p2          2075 non-null category\n",
      "p2_conf     2075 non-null float64\n",
      "p2_dog      2075 non-null bool\n",
      "p3          2075 non-null category\n",
      "p3_conf     2075 non-null float64\n",
      "p3_dog      2075 non-null bool\n",
      "dtypes: bool(3), category(3), float64(3), int64(2), object(1)\n",
      "memory usage: 174.9+ KB\n"
     ]
    }
   ],
   "source": [
    "#check all columns again \n",
    "df_image_clean.info()"
   ]
  },
  {
   "cell_type": "markdown",
   "metadata": {},
   "source": [
    "## Define\n",
    "Qual 9)Creates a predicted dog breed column, based on the the confidence level of minimum 20% and 'p1_dog', 'p2_dog' and 'p3_dog' statements\n"
   ]
  },
  {
   "cell_type": "markdown",
   "metadata": {},
   "source": [
    "### Code"
   ]
  },
  {
   "cell_type": "code",
   "execution_count": 39,
   "metadata": {},
   "outputs": [
    {
     "data": {
      "text/html": [
       "<div>\n",
       "<style scoped>\n",
       "    .dataframe tbody tr th:only-of-type {\n",
       "        vertical-align: middle;\n",
       "    }\n",
       "\n",
       "    .dataframe tbody tr th {\n",
       "        vertical-align: top;\n",
       "    }\n",
       "\n",
       "    .dataframe thead th {\n",
       "        text-align: right;\n",
       "    }\n",
       "</style>\n",
       "<table border=\"1\" class=\"dataframe\">\n",
       "  <thead>\n",
       "    <tr style=\"text-align: right;\">\n",
       "      <th></th>\n",
       "      <th>tweet_id</th>\n",
       "      <th>jpg_url</th>\n",
       "      <th>img_num</th>\n",
       "      <th>p1</th>\n",
       "      <th>p1_conf</th>\n",
       "      <th>p1_dog</th>\n",
       "      <th>p2</th>\n",
       "      <th>p2_conf</th>\n",
       "      <th>p2_dog</th>\n",
       "      <th>p3</th>\n",
       "      <th>p3_conf</th>\n",
       "      <th>p3_dog</th>\n",
       "    </tr>\n",
       "  </thead>\n",
       "  <tbody>\n",
       "    <tr>\n",
       "      <th>1136</th>\n",
       "      <td>728760639972315136</td>\n",
       "      <td>https://pbs.twimg.com/media/Ch0T71OWMAA4yIw.jpg</td>\n",
       "      <td>1</td>\n",
       "      <td>Pembroke</td>\n",
       "      <td>0.939134</td>\n",
       "      <td>True</td>\n",
       "      <td>Cardigan</td>\n",
       "      <td>0.054336</td>\n",
       "      <td>True</td>\n",
       "      <td>Chihuahua</td>\n",
       "      <td>0.00559</td>\n",
       "      <td>True</td>\n",
       "    </tr>\n",
       "  </tbody>\n",
       "</table>\n",
       "</div>"
      ],
      "text/plain": [
       "                tweet_id                                          jpg_url  \\\n",
       "1136  728760639972315136  https://pbs.twimg.com/media/Ch0T71OWMAA4yIw.jpg   \n",
       "\n",
       "      img_num        p1   p1_conf  p1_dog        p2   p2_conf  p2_dog  \\\n",
       "1136        1  Pembroke  0.939134    True  Cardigan  0.054336    True   \n",
       "\n",
       "             p3  p3_conf  p3_dog  \n",
       "1136  Chihuahua  0.00559    True  "
      ]
     },
     "execution_count": 39,
     "metadata": {},
     "output_type": "execute_result"
    }
   ],
   "source": [
    "#image sample\n",
    "\n",
    "df_image_clean.sample()"
   ]
  },
  {
   "cell_type": "code",
   "execution_count": 40,
   "metadata": {},
   "outputs": [],
   "source": [
    "df_image_clean['pred_breed'] = [df['p1'] if df['p1_dog'] == True and df['p1_conf'] > 0.2 \n",
    "                     else df['p2'] if df['p2_dog'] == True and df['p2_conf'] > 0.2\n",
    "                     else df['p3'] if df['p3_dog'] == True and df['p3_conf'] > 0.2\n",
    "                     else np.nan for index, df in df_image_clean.iterrows()]"
   ]
  },
  {
   "cell_type": "code",
   "execution_count": 41,
   "metadata": {},
   "outputs": [],
   "source": [
    "# Drop 'p1', 'p1_dog', 'p1_conf','p2', 'p2_dog', 'p2_conf','p3', 'p3_dog', 'p3_conf' columns\n",
    "df_image_clean.drop(['p1', 'p1_dog', 'p1_conf','p2', 'p2_dog', 'p2_conf','p3', 'p3_dog', 'p3_conf'], axis = 1, inplace=True)"
   ]
  },
  {
   "cell_type": "code",
   "execution_count": 42,
   "metadata": {},
   "outputs": [
    {
     "data": {
      "text/html": [
       "<div>\n",
       "<style scoped>\n",
       "    .dataframe tbody tr th:only-of-type {\n",
       "        vertical-align: middle;\n",
       "    }\n",
       "\n",
       "    .dataframe tbody tr th {\n",
       "        vertical-align: top;\n",
       "    }\n",
       "\n",
       "    .dataframe thead th {\n",
       "        text-align: right;\n",
       "    }\n",
       "</style>\n",
       "<table border=\"1\" class=\"dataframe\">\n",
       "  <thead>\n",
       "    <tr style=\"text-align: right;\">\n",
       "      <th></th>\n",
       "      <th>tweet_id</th>\n",
       "      <th>jpg_url</th>\n",
       "      <th>img_num</th>\n",
       "      <th>pred_breed</th>\n",
       "    </tr>\n",
       "  </thead>\n",
       "  <tbody>\n",
       "    <tr>\n",
       "      <th>0</th>\n",
       "      <td>666020888022790149</td>\n",
       "      <td>https://pbs.twimg.com/media/CT4udn0WwAA0aMy.jpg</td>\n",
       "      <td>1</td>\n",
       "      <td>Welsh_springer_spaniel</td>\n",
       "    </tr>\n",
       "    <tr>\n",
       "      <th>1</th>\n",
       "      <td>666029285002620928</td>\n",
       "      <td>https://pbs.twimg.com/media/CT42GRgUYAA5iDo.jpg</td>\n",
       "      <td>1</td>\n",
       "      <td>redbone</td>\n",
       "    </tr>\n",
       "    <tr>\n",
       "      <th>2</th>\n",
       "      <td>666033412701032449</td>\n",
       "      <td>https://pbs.twimg.com/media/CT4521TWwAEvMyu.jpg</td>\n",
       "      <td>1</td>\n",
       "      <td>German_shepherd</td>\n",
       "    </tr>\n",
       "    <tr>\n",
       "      <th>3</th>\n",
       "      <td>666044226329800704</td>\n",
       "      <td>https://pbs.twimg.com/media/CT5Dr8HUEAA-lEu.jpg</td>\n",
       "      <td>1</td>\n",
       "      <td>Rhodesian_ridgeback</td>\n",
       "    </tr>\n",
       "    <tr>\n",
       "      <th>4</th>\n",
       "      <td>666049248165822465</td>\n",
       "      <td>https://pbs.twimg.com/media/CT5IQmsXIAAKY4A.jpg</td>\n",
       "      <td>1</td>\n",
       "      <td>miniature_pinscher</td>\n",
       "    </tr>\n",
       "  </tbody>\n",
       "</table>\n",
       "</div>"
      ],
      "text/plain": [
       "             tweet_id                                          jpg_url  \\\n",
       "0  666020888022790149  https://pbs.twimg.com/media/CT4udn0WwAA0aMy.jpg   \n",
       "1  666029285002620928  https://pbs.twimg.com/media/CT42GRgUYAA5iDo.jpg   \n",
       "2  666033412701032449  https://pbs.twimg.com/media/CT4521TWwAEvMyu.jpg   \n",
       "3  666044226329800704  https://pbs.twimg.com/media/CT5Dr8HUEAA-lEu.jpg   \n",
       "4  666049248165822465  https://pbs.twimg.com/media/CT5IQmsXIAAKY4A.jpg   \n",
       "\n",
       "   img_num              pred_breed  \n",
       "0        1  Welsh_springer_spaniel  \n",
       "1        1                 redbone  \n",
       "2        1         German_shepherd  \n",
       "3        1     Rhodesian_ridgeback  \n",
       "4        1      miniature_pinscher  "
      ]
     },
     "execution_count": 42,
     "metadata": {},
     "output_type": "execute_result"
    }
   ],
   "source": [
    "df_image_clean.head()"
   ]
  },
  {
   "cell_type": "markdown",
   "metadata": {},
   "source": [
    "### Test"
   ]
  },
  {
   "cell_type": "code",
   "execution_count": 43,
   "metadata": {
    "scrolled": true
   },
   "outputs": [
    {
     "name": "stdout",
     "output_type": "stream",
     "text": [
      "<class 'pandas.core.frame.DataFrame'>\n",
      "RangeIndex: 2075 entries, 0 to 2074\n",
      "Data columns (total 4 columns):\n",
      "tweet_id      2075 non-null int64\n",
      "jpg_url       2075 non-null object\n",
      "img_num       2075 non-null int64\n",
      "pred_breed    1472 non-null object\n",
      "dtypes: int64(2), object(2)\n",
      "memory usage: 64.9+ KB\n"
     ]
    }
   ],
   "source": [
    "#check all columns again \n",
    "df_image_clean.info()"
   ]
  },
  {
   "cell_type": "markdown",
   "metadata": {},
   "source": [
    "### Define\n",
    "Tidy 1)Combine dog stages into one column life_stage and convert to category \n"
   ]
  },
  {
   "cell_type": "code",
   "execution_count": 44,
   "metadata": {},
   "outputs": [],
   "source": [
    "#df_archive_clean.info()\n",
    "\n",
    "\n",
    "\n",
    "df_archive_clean = df_archive.copy()"
   ]
  },
  {
   "cell_type": "code",
   "execution_count": 45,
   "metadata": {},
   "outputs": [
    {
     "name": "stdout",
     "output_type": "stream",
     "text": [
      "<class 'pandas.core.frame.DataFrame'>\n",
      "RangeIndex: 2348 entries, 0 to 2347\n",
      "Data columns (total 17 columns):\n",
      "tweet_id                      2348 non-null float64\n",
      "in_reply_to_status_id         77 non-null float64\n",
      "in_reply_to_user_id           77 non-null float64\n",
      "timestamp                     2348 non-null object\n",
      "source                        2348 non-null object\n",
      "text                          2348 non-null object\n",
      "retweeted_status_id           179 non-null float64\n",
      "retweeted_status_user_id      179 non-null float64\n",
      "retweeted_status_timestamp    179 non-null object\n",
      "expanded_urls                 2289 non-null object\n",
      "rating_numerator              2348 non-null int64\n",
      "rating_denominator            2348 non-null int64\n",
      "name                          2348 non-null object\n",
      "doggo                         2348 non-null object\n",
      "floofer                       2348 non-null object\n",
      "pupper                        2348 non-null object\n",
      "puppo                         2348 non-null object\n",
      "dtypes: float64(5), int64(2), object(10)\n",
      "memory usage: 311.9+ KB\n"
     ]
    }
   ],
   "source": [
    "df_archive_clean.info()"
   ]
  },
  {
   "cell_type": "markdown",
   "metadata": {},
   "source": [
    "### Code"
   ]
  },
  {
   "cell_type": "code",
   "execution_count": 46,
   "metadata": {},
   "outputs": [],
   "source": [
    "# Create new column by combining 4 stages columns and convert this column to category\n",
    "\n",
    "df_archive_clean['life_stage'] = df_archive_clean['text'].str.extract('(doggo|floofer|pupper|puppo)')\n"
   ]
  },
  {
   "cell_type": "code",
   "execution_count": 47,
   "metadata": {},
   "outputs": [],
   "source": [
    "# Convert the stage in df_clean into categorical dtype\n",
    "df_archive_clean['life_stage'] = df_archive_clean['life_stage'].astype('category')\n",
    "\n"
   ]
  },
  {
   "cell_type": "code",
   "execution_count": 48,
   "metadata": {},
   "outputs": [
    {
     "name": "stdout",
     "output_type": "stream",
     "text": [
      "<class 'pandas.core.frame.DataFrame'>\n",
      "RangeIndex: 2348 entries, 0 to 2347\n",
      "Data columns (total 18 columns):\n",
      "tweet_id                      2348 non-null float64\n",
      "in_reply_to_status_id         77 non-null float64\n",
      "in_reply_to_user_id           77 non-null float64\n",
      "timestamp                     2348 non-null object\n",
      "source                        2348 non-null object\n",
      "text                          2348 non-null object\n",
      "retweeted_status_id           179 non-null float64\n",
      "retweeted_status_user_id      179 non-null float64\n",
      "retweeted_status_timestamp    179 non-null object\n",
      "expanded_urls                 2289 non-null object\n",
      "rating_numerator              2348 non-null int64\n",
      "rating_denominator            2348 non-null int64\n",
      "name                          2348 non-null object\n",
      "doggo                         2348 non-null object\n",
      "floofer                       2348 non-null object\n",
      "pupper                        2348 non-null object\n",
      "puppo                         2348 non-null object\n",
      "life_stage                    392 non-null category\n",
      "dtypes: category(1), float64(5), int64(2), object(10)\n",
      "memory usage: 314.4+ KB\n"
     ]
    }
   ],
   "source": [
    "df_archive_clean.info()"
   ]
  },
  {
   "cell_type": "code",
   "execution_count": 49,
   "metadata": {},
   "outputs": [],
   "source": [
    "# drop all 4 stages columns as they are not needed\n",
    "\n",
    "df_archive_clean.drop(['doggo', 'floofer', 'pupper', 'puppo'], axis=1, inplace=True)\n",
    "df_archive_clean.life_stage.replace('', np.nan, inplace=True)"
   ]
  },
  {
   "cell_type": "markdown",
   "metadata": {},
   "source": [
    "### Test"
   ]
  },
  {
   "cell_type": "code",
   "execution_count": 50,
   "metadata": {},
   "outputs": [
    {
     "name": "stdout",
     "output_type": "stream",
     "text": [
      "<class 'pandas.core.frame.DataFrame'>\n",
      "RangeIndex: 2348 entries, 0 to 2347\n",
      "Data columns (total 14 columns):\n",
      "tweet_id                      2348 non-null float64\n",
      "in_reply_to_status_id         77 non-null float64\n",
      "in_reply_to_user_id           77 non-null float64\n",
      "timestamp                     2348 non-null object\n",
      "source                        2348 non-null object\n",
      "text                          2348 non-null object\n",
      "retweeted_status_id           179 non-null float64\n",
      "retweeted_status_user_id      179 non-null float64\n",
      "retweeted_status_timestamp    179 non-null object\n",
      "expanded_urls                 2289 non-null object\n",
      "rating_numerator              2348 non-null int64\n",
      "rating_denominator            2348 non-null int64\n",
      "name                          2348 non-null object\n",
      "life_stage                    392 non-null category\n",
      "dtypes: category(1), float64(5), int64(2), object(6)\n",
      "memory usage: 241.0+ KB\n"
     ]
    }
   ],
   "source": [
    "#check all columns again \n",
    "df_archive_clean.info()"
   ]
  },
  {
   "cell_type": "code",
   "execution_count": 51,
   "metadata": {},
   "outputs": [
    {
     "data": {
      "text/plain": [
       "pupper     262\n",
       "doggo       89\n",
       "puppo       37\n",
       "floofer      4\n",
       "Name: life_stage, dtype: int64"
      ]
     },
     "execution_count": 51,
     "metadata": {},
     "output_type": "execute_result"
    }
   ],
   "source": [
    "df_archive_clean.life_stage.value_counts()"
   ]
  },
  {
   "cell_type": "markdown",
   "metadata": {},
   "source": [
    "### Define\n",
    "Tidy 2)Merge all dataframes into one for analysis and visualisation\n"
   ]
  },
  {
   "cell_type": "markdown",
   "metadata": {},
   "source": [
    "### Code"
   ]
  },
  {
   "cell_type": "code",
   "execution_count": 77,
   "metadata": {},
   "outputs": [],
   "source": [
    "\n",
    "master_df = pd.concat([df_archive_clean,df_image_clean,df_tweetsdata_clean],join='outer',axis=1)\n",
    "\n",
    "\n"
   ]
  },
  {
   "cell_type": "markdown",
   "metadata": {},
   "source": [
    "### Test"
   ]
  },
  {
   "cell_type": "code",
   "execution_count": 78,
   "metadata": {},
   "outputs": [
    {
     "name": "stdout",
     "output_type": "stream",
     "text": [
      "<class 'pandas.core.frame.DataFrame'>\n",
      "RangeIndex: 2348 entries, 0 to 2347\n",
      "Data columns (total 22 columns):\n",
      "tweet_id                      2348 non-null float64\n",
      "in_reply_to_status_id         77 non-null float64\n",
      "in_reply_to_user_id           77 non-null float64\n",
      "timestamp                     2348 non-null object\n",
      "source                        2348 non-null object\n",
      "text                          2348 non-null object\n",
      "retweeted_status_id           179 non-null float64\n",
      "retweeted_status_user_id      179 non-null float64\n",
      "retweeted_status_timestamp    179 non-null object\n",
      "expanded_urls                 2289 non-null object\n",
      "rating_numerator              2348 non-null int64\n",
      "rating_denominator            2348 non-null int64\n",
      "name                          1501 non-null object\n",
      "life_stage                    392 non-null category\n",
      "tweet_id                      2075 non-null float64\n",
      "jpg_url                       2075 non-null object\n",
      "img_num                       2075 non-null float64\n",
      "pred_breed                    1472 non-null object\n",
      "tweet_id                      2331 non-null float64\n",
      "favorites                     2331 non-null float64\n",
      "retweets                      2331 non-null float64\n",
      "date_time                     2331 non-null datetime64[ns]\n",
      "dtypes: category(1), datetime64[ns](1), float64(10), int64(2), object(8)\n",
      "memory usage: 387.8+ KB\n"
     ]
    }
   ],
   "source": [
    "#check all columns again \n",
    "master_df.info()"
   ]
  },
  {
   "cell_type": "markdown",
   "metadata": {},
   "source": [
    "# Storing and Visual Analytics"
   ]
  },
  {
   "cell_type": "markdown",
   "metadata": {},
   "source": [
    "### Store -  master_df to csv for visual analytics"
   ]
  },
  {
   "cell_type": "code",
   "execution_count": 79,
   "metadata": {},
   "outputs": [],
   "source": [
    "#store master_df dataframe to csv file for further use in analytics and visualisation\n",
    "\n",
    "\n",
    "master_df.to_csv('twitter_archive_master.csv', encoding='utf-8', index=False)\n",
    "\n"
   ]
  },
  {
   "cell_type": "code",
   "execution_count": 80,
   "metadata": {},
   "outputs": [
    {
     "data": {
      "text/html": [
       "<div>\n",
       "<style scoped>\n",
       "    .dataframe tbody tr th:only-of-type {\n",
       "        vertical-align: middle;\n",
       "    }\n",
       "\n",
       "    .dataframe tbody tr th {\n",
       "        vertical-align: top;\n",
       "    }\n",
       "\n",
       "    .dataframe thead th {\n",
       "        text-align: right;\n",
       "    }\n",
       "</style>\n",
       "<table border=\"1\" class=\"dataframe\">\n",
       "  <thead>\n",
       "    <tr style=\"text-align: right;\">\n",
       "      <th></th>\n",
       "      <th>tweet_id</th>\n",
       "      <th>in_reply_to_status_id</th>\n",
       "      <th>in_reply_to_user_id</th>\n",
       "      <th>timestamp</th>\n",
       "      <th>source</th>\n",
       "      <th>text</th>\n",
       "      <th>retweeted_status_id</th>\n",
       "      <th>retweeted_status_user_id</th>\n",
       "      <th>retweeted_status_timestamp</th>\n",
       "      <th>expanded_urls</th>\n",
       "      <th>...</th>\n",
       "      <th>name</th>\n",
       "      <th>life_stage</th>\n",
       "      <th>tweet_id.1</th>\n",
       "      <th>jpg_url</th>\n",
       "      <th>img_num</th>\n",
       "      <th>pred_breed</th>\n",
       "      <th>tweet_id.2</th>\n",
       "      <th>favorites</th>\n",
       "      <th>retweets</th>\n",
       "      <th>date_time</th>\n",
       "    </tr>\n",
       "  </thead>\n",
       "  <tbody>\n",
       "    <tr>\n",
       "      <th>0</th>\n",
       "      <td>8.920000e+17</td>\n",
       "      <td>NaN</td>\n",
       "      <td>NaN</td>\n",
       "      <td>2017-08-01 16:23:56 +0000</td>\n",
       "      <td>&lt;a href=\"http://twitter.com/download/iphone\" r...</td>\n",
       "      <td>This is Phineas. He's a mystical boy. Only eve...</td>\n",
       "      <td>NaN</td>\n",
       "      <td>NaN</td>\n",
       "      <td>NaN</td>\n",
       "      <td>https://twitter.com/dog_rates/status/892420643...</td>\n",
       "      <td>...</td>\n",
       "      <td>Phineas</td>\n",
       "      <td>NaN</td>\n",
       "      <td>6.660209e+17</td>\n",
       "      <td>https://pbs.twimg.com/media/CT4udn0WwAA0aMy.jpg</td>\n",
       "      <td>1.0</td>\n",
       "      <td>Welsh_springer_spaniel</td>\n",
       "      <td>8.924206e+17</td>\n",
       "      <td>35072.0</td>\n",
       "      <td>7376.0</td>\n",
       "      <td>2017-08-01 16:23:56</td>\n",
       "    </tr>\n",
       "    <tr>\n",
       "      <th>1</th>\n",
       "      <td>8.920000e+17</td>\n",
       "      <td>NaN</td>\n",
       "      <td>NaN</td>\n",
       "      <td>2017-08-01 00:17:27 +0000</td>\n",
       "      <td>&lt;a href=\"http://twitter.com/download/iphone\" r...</td>\n",
       "      <td>This is Tilly. She's just checking pup on you....</td>\n",
       "      <td>NaN</td>\n",
       "      <td>NaN</td>\n",
       "      <td>NaN</td>\n",
       "      <td>https://twitter.com/dog_rates/status/892177421...</td>\n",
       "      <td>...</td>\n",
       "      <td>Tilly</td>\n",
       "      <td>NaN</td>\n",
       "      <td>6.660293e+17</td>\n",
       "      <td>https://pbs.twimg.com/media/CT42GRgUYAA5iDo.jpg</td>\n",
       "      <td>1.0</td>\n",
       "      <td>redbone</td>\n",
       "      <td>8.921774e+17</td>\n",
       "      <td>30366.0</td>\n",
       "      <td>5495.0</td>\n",
       "      <td>2017-08-01 00:17:27</td>\n",
       "    </tr>\n",
       "    <tr>\n",
       "      <th>2</th>\n",
       "      <td>8.920000e+17</td>\n",
       "      <td>NaN</td>\n",
       "      <td>NaN</td>\n",
       "      <td>2017-07-31 00:18:03 +0000</td>\n",
       "      <td>&lt;a href=\"http://twitter.com/download/iphone\" r...</td>\n",
       "      <td>This is Archie. He is a rare Norwegian Pouncin...</td>\n",
       "      <td>NaN</td>\n",
       "      <td>NaN</td>\n",
       "      <td>NaN</td>\n",
       "      <td>https://twitter.com/dog_rates/status/891815181...</td>\n",
       "      <td>...</td>\n",
       "      <td>Archie</td>\n",
       "      <td>NaN</td>\n",
       "      <td>6.660334e+17</td>\n",
       "      <td>https://pbs.twimg.com/media/CT4521TWwAEvMyu.jpg</td>\n",
       "      <td>1.0</td>\n",
       "      <td>German_shepherd</td>\n",
       "      <td>8.918152e+17</td>\n",
       "      <td>22828.0</td>\n",
       "      <td>3633.0</td>\n",
       "      <td>2017-07-31 00:18:03</td>\n",
       "    </tr>\n",
       "    <tr>\n",
       "      <th>3</th>\n",
       "      <td>8.920000e+17</td>\n",
       "      <td>NaN</td>\n",
       "      <td>NaN</td>\n",
       "      <td>2017-07-30 15:58:51 +0000</td>\n",
       "      <td>&lt;a href=\"http://twitter.com/download/iphone\" r...</td>\n",
       "      <td>This is Darla. She commenced a snooze mid meal...</td>\n",
       "      <td>NaN</td>\n",
       "      <td>NaN</td>\n",
       "      <td>NaN</td>\n",
       "      <td>https://twitter.com/dog_rates/status/891689557...</td>\n",
       "      <td>...</td>\n",
       "      <td>Darla</td>\n",
       "      <td>NaN</td>\n",
       "      <td>6.660442e+17</td>\n",
       "      <td>https://pbs.twimg.com/media/CT5Dr8HUEAA-lEu.jpg</td>\n",
       "      <td>1.0</td>\n",
       "      <td>Rhodesian_ridgeback</td>\n",
       "      <td>8.916896e+17</td>\n",
       "      <td>38351.0</td>\n",
       "      <td>7554.0</td>\n",
       "      <td>2017-07-30 15:58:51</td>\n",
       "    </tr>\n",
       "    <tr>\n",
       "      <th>4</th>\n",
       "      <td>8.910000e+17</td>\n",
       "      <td>NaN</td>\n",
       "      <td>NaN</td>\n",
       "      <td>2017-07-29 16:00:24 +0000</td>\n",
       "      <td>&lt;a href=\"http://twitter.com/download/iphone\" r...</td>\n",
       "      <td>This is Franklin. He would like you to stop ca...</td>\n",
       "      <td>NaN</td>\n",
       "      <td>NaN</td>\n",
       "      <td>NaN</td>\n",
       "      <td>https://twitter.com/dog_rates/status/891327558...</td>\n",
       "      <td>...</td>\n",
       "      <td>Franklin</td>\n",
       "      <td>NaN</td>\n",
       "      <td>6.660492e+17</td>\n",
       "      <td>https://pbs.twimg.com/media/CT5IQmsXIAAKY4A.jpg</td>\n",
       "      <td>1.0</td>\n",
       "      <td>miniature_pinscher</td>\n",
       "      <td>8.913276e+17</td>\n",
       "      <td>36629.0</td>\n",
       "      <td>8140.0</td>\n",
       "      <td>2017-07-29 16:00:24</td>\n",
       "    </tr>\n",
       "  </tbody>\n",
       "</table>\n",
       "<p>5 rows × 22 columns</p>\n",
       "</div>"
      ],
      "text/plain": [
       "       tweet_id  in_reply_to_status_id  in_reply_to_user_id  \\\n",
       "0  8.920000e+17                    NaN                  NaN   \n",
       "1  8.920000e+17                    NaN                  NaN   \n",
       "2  8.920000e+17                    NaN                  NaN   \n",
       "3  8.920000e+17                    NaN                  NaN   \n",
       "4  8.910000e+17                    NaN                  NaN   \n",
       "\n",
       "                   timestamp  \\\n",
       "0  2017-08-01 16:23:56 +0000   \n",
       "1  2017-08-01 00:17:27 +0000   \n",
       "2  2017-07-31 00:18:03 +0000   \n",
       "3  2017-07-30 15:58:51 +0000   \n",
       "4  2017-07-29 16:00:24 +0000   \n",
       "\n",
       "                                              source  \\\n",
       "0  <a href=\"http://twitter.com/download/iphone\" r...   \n",
       "1  <a href=\"http://twitter.com/download/iphone\" r...   \n",
       "2  <a href=\"http://twitter.com/download/iphone\" r...   \n",
       "3  <a href=\"http://twitter.com/download/iphone\" r...   \n",
       "4  <a href=\"http://twitter.com/download/iphone\" r...   \n",
       "\n",
       "                                                text  retweeted_status_id  \\\n",
       "0  This is Phineas. He's a mystical boy. Only eve...                  NaN   \n",
       "1  This is Tilly. She's just checking pup on you....                  NaN   \n",
       "2  This is Archie. He is a rare Norwegian Pouncin...                  NaN   \n",
       "3  This is Darla. She commenced a snooze mid meal...                  NaN   \n",
       "4  This is Franklin. He would like you to stop ca...                  NaN   \n",
       "\n",
       "   retweeted_status_user_id retweeted_status_timestamp  \\\n",
       "0                       NaN                        NaN   \n",
       "1                       NaN                        NaN   \n",
       "2                       NaN                        NaN   \n",
       "3                       NaN                        NaN   \n",
       "4                       NaN                        NaN   \n",
       "\n",
       "                                       expanded_urls         ...           \\\n",
       "0  https://twitter.com/dog_rates/status/892420643...         ...            \n",
       "1  https://twitter.com/dog_rates/status/892177421...         ...            \n",
       "2  https://twitter.com/dog_rates/status/891815181...         ...            \n",
       "3  https://twitter.com/dog_rates/status/891689557...         ...            \n",
       "4  https://twitter.com/dog_rates/status/891327558...         ...            \n",
       "\n",
       "       name  life_stage    tweet_id.1  \\\n",
       "0   Phineas         NaN  6.660209e+17   \n",
       "1     Tilly         NaN  6.660293e+17   \n",
       "2    Archie         NaN  6.660334e+17   \n",
       "3     Darla         NaN  6.660442e+17   \n",
       "4  Franklin         NaN  6.660492e+17   \n",
       "\n",
       "                                           jpg_url  img_num  \\\n",
       "0  https://pbs.twimg.com/media/CT4udn0WwAA0aMy.jpg      1.0   \n",
       "1  https://pbs.twimg.com/media/CT42GRgUYAA5iDo.jpg      1.0   \n",
       "2  https://pbs.twimg.com/media/CT4521TWwAEvMyu.jpg      1.0   \n",
       "3  https://pbs.twimg.com/media/CT5Dr8HUEAA-lEu.jpg      1.0   \n",
       "4  https://pbs.twimg.com/media/CT5IQmsXIAAKY4A.jpg      1.0   \n",
       "\n",
       "               pred_breed    tweet_id.2 favorites  retweets  \\\n",
       "0  Welsh_springer_spaniel  8.924206e+17   35072.0    7376.0   \n",
       "1                 redbone  8.921774e+17   30366.0    5495.0   \n",
       "2         German_shepherd  8.918152e+17   22828.0    3633.0   \n",
       "3     Rhodesian_ridgeback  8.916896e+17   38351.0    7554.0   \n",
       "4      miniature_pinscher  8.913276e+17   36629.0    8140.0   \n",
       "\n",
       "             date_time  \n",
       "0  2017-08-01 16:23:56  \n",
       "1  2017-08-01 00:17:27  \n",
       "2  2017-07-31 00:18:03  \n",
       "3  2017-07-30 15:58:51  \n",
       "4  2017-07-29 16:00:24  \n",
       "\n",
       "[5 rows x 22 columns]"
      ]
     },
     "execution_count": 80,
     "metadata": {},
     "output_type": "execute_result"
    }
   ],
   "source": [
    "# read tweeterdograting_master.csv\n",
    "\n",
    "df = pd.read_csv('twitter_archive_master.csv')\n",
    "df.head()"
   ]
  },
  {
   "cell_type": "markdown",
   "metadata": {},
   "source": [
    "### Visualisation 1 - Correlation HeatMap"
   ]
  },
  {
   "cell_type": "code",
   "execution_count": 82,
   "metadata": {},
   "outputs": [
    {
     "data": {
      "image/png": "[encoded data removed]",
      "text/plain": [
       "<matplotlib.figure.Figure at 0x7fe62ad58f60>"
      ]
     },
     "metadata": {
      "needs_background": "light"
     },
     "output_type": "display_data"
    }
   ],
   "source": [
    "#correlation heat map\n",
    "f,ax = plt.subplots(figsize=(12, 12))\n",
    "sns.heatmap(df[['source','favorites','retweets','rating_numerator','rating_denominator']].corr(), annot=True, linewidths=.8, fmt= '.1f',ax=ax)\n",
    "plt.title('Correlation Heat Map');"
   ]
  },
  {
   "cell_type": "markdown",
   "metadata": {},
   "source": [
    "#### Analysis\n",
    "\n",
    "Strong correlation between favorites and retweets, this is as expected."
   ]
  },
  {
   "cell_type": "markdown",
   "metadata": {},
   "source": [
    "### Visualisation 2 - Top 10 frequently and correctly predicted dog breeds"
   ]
  },
  {
   "cell_type": "code",
   "execution_count": 83,
   "metadata": {},
   "outputs": [
    {
     "data": {
      "image/png": "[encoded data removed]",
      "text/plain": [
       "<matplotlib.figure.Figure at 0x7fe62a87ff28>"
      ]
     },
     "metadata": {
      "needs_background": "light"
     },
     "output_type": "display_data"
    }
   ],
   "source": [
    "df['pred_breed'].value_counts()[0:10].sort_values(ascending=False).plot(kind = 'barh', color= 'black')\n",
    "plt.ylabel('No of Breed Predicted')\n",
    "plt.title('Top 10 frequently correct predicted dog breeds', size=15)\n",
    "plt.xlabel('Dog Breed')\n",
    "plt.plot();"
   ]
  },
  {
   "cell_type": "markdown",
   "metadata": {},
   "source": [
    "#### Analysis\n",
    "\n",
    "Golden_retriver seems to be the most frequently and correctly predicted list in top 10 "
   ]
  },
  {
   "cell_type": "markdown",
   "metadata": {},
   "source": [
    "### Visualisation 3:- Top 10 dog names "
   ]
  },
  {
   "cell_type": "code",
   "execution_count": 84,
   "metadata": {},
   "outputs": [
    {
     "data": {
      "image/png": "[encoded data removed]",
      "text/plain": [
       "<matplotlib.figure.Figure at 0x7fe62f7ba1d0>"
      ]
     },
     "metadata": {
      "needs_background": "light"
     },
     "output_type": "display_data"
    }
   ],
   "source": [
    "df['name'].value_counts()[0:10].sort_values(ascending=False).plot(kind = 'bar', color= 'grey')\n",
    "plt.ylabel('Number of Dogs')\n",
    "plt.title('Top 10 Dog Names', size=15)\n",
    "plt.xlabel('Dog Names')\n",
    "plt.plot();"
   ]
  },
  {
   "cell_type": "markdown",
   "metadata": {},
   "source": [
    "#### Analysis\n",
    "\n",
    "Charlie tops the list and including Cooper and Oliver are Top 3 favourites"
   ]
  },
  {
   "cell_type": "code",
   "execution_count": null,
   "metadata": {},
   "outputs": [],
   "source": []
  }
 ],
 "metadata": {
  "kernelspec": {
   "display_name": "Python 3",
   "language": "python",
   "name": "python3"
  },
  "language_info": {
   "codemirror_mode": {
    "name": "ipython",
    "version": 3
   },
   "file_extension": ".py",
   "mimetype": "text/x-python",
   "name": "python",
   "nbconvert_exporter": "python",
   "pygments_lexer": "ipython3",
   "version": "3.6.3"
  }
 },
 "nbformat": 4,
 "nbformat_minor": 2
}
